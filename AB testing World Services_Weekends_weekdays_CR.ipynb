{
 "cells": [
  {
   "cell_type": "code",
   "execution_count": 113,
   "metadata": {},
   "outputs": [],
   "source": [
    "import pandas as pd\n",
    "import numpy as np\n",
    "import random\n",
    "from scipy.stats import chi2_contingency\n",
    "from statsmodels.stats.power import GofChisquarePower\n",
    "import math"
   ]
  },
  {
   "cell_type": "code",
   "execution_count": 2,
   "metadata": {},
   "outputs": [],
   "source": [
    "data1 = pd.read_csv(\"dataset1.csv\")\n",
    "data2 = pd.read_csv(\"dataset2.csv\")"
   ]
  },
  {
   "cell_type": "code",
   "execution_count": 3,
   "metadata": {},
   "outputs": [
    {
     "data": {
      "text/html": [
       "<div>\n",
       "<style scoped>\n",
       "    .dataframe tbody tr th:only-of-type {\n",
       "        vertical-align: middle;\n",
       "    }\n",
       "\n",
       "    .dataframe tbody tr th {\n",
       "        vertical-align: top;\n",
       "    }\n",
       "\n",
       "    .dataframe thead th {\n",
       "        text-align: right;\n",
       "    }\n",
       "</style>\n",
       "<table border=\"1\" class=\"dataframe\">\n",
       "  <thead>\n",
       "    <tr style=\"text-align: right;\">\n",
       "      <th></th>\n",
       "      <th>user_id</th>\n",
       "      <th>date</th>\n",
       "      <th>hour</th>\n",
       "      <th>impressions</th>\n",
       "      <th>clicks</th>\n",
       "      <th>video_midpoint</th>\n",
       "      <th>video_complete_views</th>\n",
       "      <th>asset</th>\n",
       "      <th>conversions</th>\n",
       "    </tr>\n",
       "  </thead>\n",
       "  <tbody>\n",
       "    <tr>\n",
       "      <th>0</th>\n",
       "      <td>00007e57-36c3-49aa-9917-4266a59c3bea</td>\n",
       "      <td>2022-11-07</td>\n",
       "      <td>1</td>\n",
       "      <td>1</td>\n",
       "      <td>1</td>\n",
       "      <td>1</td>\n",
       "      <td>1</td>\n",
       "      <td>Asset1</td>\n",
       "      <td>0</td>\n",
       "    </tr>\n",
       "    <tr>\n",
       "      <th>1</th>\n",
       "      <td>000449ee-3b62-4e56-be4e-f600a728bbc5</td>\n",
       "      <td>2022-11-08</td>\n",
       "      <td>4</td>\n",
       "      <td>1</td>\n",
       "      <td>0</td>\n",
       "      <td>0</td>\n",
       "      <td>0</td>\n",
       "      <td>Asset1</td>\n",
       "      <td>0</td>\n",
       "    </tr>\n",
       "    <tr>\n",
       "      <th>2</th>\n",
       "      <td>00065b29-9ef3-4c60-8605-7f796d00e3d2</td>\n",
       "      <td>2022-11-10</td>\n",
       "      <td>1</td>\n",
       "      <td>1</td>\n",
       "      <td>0</td>\n",
       "      <td>0</td>\n",
       "      <td>0</td>\n",
       "      <td>Asset1</td>\n",
       "      <td>0</td>\n",
       "    </tr>\n",
       "    <tr>\n",
       "      <th>3</th>\n",
       "      <td>0009d922-3cd3-4a9c-a70c-b1b2fcaa8bfa</td>\n",
       "      <td>2022-11-11</td>\n",
       "      <td>4</td>\n",
       "      <td>1</td>\n",
       "      <td>0</td>\n",
       "      <td>0</td>\n",
       "      <td>0</td>\n",
       "      <td>Asset1</td>\n",
       "      <td>0</td>\n",
       "    </tr>\n",
       "    <tr>\n",
       "      <th>4</th>\n",
       "      <td>000bce0a-3c18-4cf5-9e5b-d2b0fe17ec8e</td>\n",
       "      <td>2022-11-09</td>\n",
       "      <td>3</td>\n",
       "      <td>1</td>\n",
       "      <td>0</td>\n",
       "      <td>0</td>\n",
       "      <td>0</td>\n",
       "      <td>Asset1</td>\n",
       "      <td>0</td>\n",
       "    </tr>\n",
       "  </tbody>\n",
       "</table>\n",
       "</div>"
      ],
      "text/plain": [
       "                                user_id        date  hour  impressions  \\\n",
       "0  00007e57-36c3-49aa-9917-4266a59c3bea  2022-11-07     1            1   \n",
       "1  000449ee-3b62-4e56-be4e-f600a728bbc5  2022-11-08     4            1   \n",
       "2  00065b29-9ef3-4c60-8605-7f796d00e3d2  2022-11-10     1            1   \n",
       "3  0009d922-3cd3-4a9c-a70c-b1b2fcaa8bfa  2022-11-11     4            1   \n",
       "4  000bce0a-3c18-4cf5-9e5b-d2b0fe17ec8e  2022-11-09     3            1   \n",
       "\n",
       "   clicks  video_midpoint  video_complete_views   asset  conversions  \n",
       "0       1               1                     1  Asset1            0  \n",
       "1       0               0                     0  Asset1            0  \n",
       "2       0               0                     0  Asset1            0  \n",
       "3       0               0                     0  Asset1            0  \n",
       "4       0               0                     0  Asset1            0  "
      ]
     },
     "execution_count": 3,
     "metadata": {},
     "output_type": "execute_result"
    }
   ],
   "source": [
    "data1.head()"
   ]
  },
  {
   "cell_type": "code",
   "execution_count": 4,
   "metadata": {},
   "outputs": [
    {
     "data": {
      "text/html": [
       "<div>\n",
       "<style scoped>\n",
       "    .dataframe tbody tr th:only-of-type {\n",
       "        vertical-align: middle;\n",
       "    }\n",
       "\n",
       "    .dataframe tbody tr th {\n",
       "        vertical-align: top;\n",
       "    }\n",
       "\n",
       "    .dataframe thead th {\n",
       "        text-align: right;\n",
       "    }\n",
       "</style>\n",
       "<table border=\"1\" class=\"dataframe\">\n",
       "  <thead>\n",
       "    <tr style=\"text-align: right;\">\n",
       "      <th></th>\n",
       "      <th>user_id</th>\n",
       "      <th>gender</th>\n",
       "      <th>age</th>\n",
       "      <th>device_type</th>\n",
       "      <th>os</th>\n",
       "      <th>nrs_grade</th>\n",
       "      <th>date_collected</th>\n",
       "    </tr>\n",
       "  </thead>\n",
       "  <tbody>\n",
       "    <tr>\n",
       "      <th>0</th>\n",
       "      <td>0002d9ed-170a-4e5a-8a14-11c1e676db36</td>\n",
       "      <td>NaN</td>\n",
       "      <td>21.0</td>\n",
       "      <td>tablet</td>\n",
       "      <td>NaN</td>\n",
       "      <td>B</td>\n",
       "      <td>NaN</td>\n",
       "    </tr>\n",
       "    <tr>\n",
       "      <th>1</th>\n",
       "      <td>00030986-2813-4f7d-b837-502be86ecbdf</td>\n",
       "      <td>M</td>\n",
       "      <td>NaN</td>\n",
       "      <td>NaN</td>\n",
       "      <td>NaN</td>\n",
       "      <td>C1</td>\n",
       "      <td>2022-07-18</td>\n",
       "    </tr>\n",
       "    <tr>\n",
       "      <th>2</th>\n",
       "      <td>00030986-2813-4f7d-b837-502be86ecbdf</td>\n",
       "      <td>M</td>\n",
       "      <td>49.0</td>\n",
       "      <td>NaN</td>\n",
       "      <td>NaN</td>\n",
       "      <td>C1</td>\n",
       "      <td>2022-07-18</td>\n",
       "    </tr>\n",
       "    <tr>\n",
       "      <th>3</th>\n",
       "      <td>0003d012-3ebc-4967-8be4-0d486cf7eaf9</td>\n",
       "      <td>NaN</td>\n",
       "      <td>59.0</td>\n",
       "      <td>NaN</td>\n",
       "      <td>NaN</td>\n",
       "      <td>B</td>\n",
       "      <td>2022-11-14</td>\n",
       "    </tr>\n",
       "    <tr>\n",
       "      <th>4</th>\n",
       "      <td>0003d012-3ebc-4967-8be4-0d486cf7eaf9</td>\n",
       "      <td>NaN</td>\n",
       "      <td>NaN</td>\n",
       "      <td>NaN</td>\n",
       "      <td>NaN</td>\n",
       "      <td>B</td>\n",
       "      <td>2022-10-28</td>\n",
       "    </tr>\n",
       "  </tbody>\n",
       "</table>\n",
       "</div>"
      ],
      "text/plain": [
       "                                user_id gender   age device_type   os  \\\n",
       "0  0002d9ed-170a-4e5a-8a14-11c1e676db36    NaN  21.0      tablet  NaN   \n",
       "1  00030986-2813-4f7d-b837-502be86ecbdf      M   NaN         NaN  NaN   \n",
       "2  00030986-2813-4f7d-b837-502be86ecbdf      M  49.0         NaN  NaN   \n",
       "3  0003d012-3ebc-4967-8be4-0d486cf7eaf9    NaN  59.0         NaN  NaN   \n",
       "4  0003d012-3ebc-4967-8be4-0d486cf7eaf9    NaN   NaN         NaN  NaN   \n",
       "\n",
       "  nrs_grade date_collected  \n",
       "0         B            NaN  \n",
       "1        C1     2022-07-18  \n",
       "2        C1     2022-07-18  \n",
       "3         B     2022-11-14  \n",
       "4         B     2022-10-28  "
      ]
     },
     "execution_count": 4,
     "metadata": {},
     "output_type": "execute_result"
    }
   ],
   "source": [
    "data2.head()"
   ]
  },
  {
   "cell_type": "code",
   "execution_count": 6,
   "metadata": {},
   "outputs": [
    {
     "name": "stdout",
     "output_type": "stream",
     "text": [
      "Time min:  2022-11-07  , Time max:  2022-11-13\n"
     ]
    }
   ],
   "source": [
    "print(\"Time min: \", data1['date'].min(), \" , Time max: \", data1['date'].max())"
   ]
  },
  {
   "cell_type": "code",
   "execution_count": 17,
   "metadata": {},
   "outputs": [
    {
     "data": {
      "text/html": [
       "<div>\n",
       "<style scoped>\n",
       "    .dataframe tbody tr th:only-of-type {\n",
       "        vertical-align: middle;\n",
       "    }\n",
       "\n",
       "    .dataframe tbody tr th {\n",
       "        vertical-align: top;\n",
       "    }\n",
       "\n",
       "    .dataframe thead th {\n",
       "        text-align: right;\n",
       "    }\n",
       "</style>\n",
       "<table border=\"1\" class=\"dataframe\">\n",
       "  <thead>\n",
       "    <tr style=\"text-align: right;\">\n",
       "      <th></th>\n",
       "      <th>len</th>\n",
       "      <th>sum</th>\n",
       "    </tr>\n",
       "    <tr>\n",
       "      <th>date</th>\n",
       "      <th></th>\n",
       "      <th></th>\n",
       "    </tr>\n",
       "  </thead>\n",
       "  <tbody>\n",
       "    <tr>\n",
       "      <th>2022-11-07</th>\n",
       "      <td>7427</td>\n",
       "      <td>351</td>\n",
       "    </tr>\n",
       "    <tr>\n",
       "      <th>2022-11-08</th>\n",
       "      <td>7059</td>\n",
       "      <td>369</td>\n",
       "    </tr>\n",
       "    <tr>\n",
       "      <th>2022-11-09</th>\n",
       "      <td>6947</td>\n",
       "      <td>343</td>\n",
       "    </tr>\n",
       "    <tr>\n",
       "      <th>2022-11-10</th>\n",
       "      <td>7317</td>\n",
       "      <td>406</td>\n",
       "    </tr>\n",
       "    <tr>\n",
       "      <th>2022-11-11</th>\n",
       "      <td>6836</td>\n",
       "      <td>322</td>\n",
       "    </tr>\n",
       "    <tr>\n",
       "      <th>2022-11-12</th>\n",
       "      <td>7406</td>\n",
       "      <td>334</td>\n",
       "    </tr>\n",
       "    <tr>\n",
       "      <th>2022-11-13</th>\n",
       "      <td>6807</td>\n",
       "      <td>324</td>\n",
       "    </tr>\n",
       "  </tbody>\n",
       "</table>\n",
       "</div>"
      ],
      "text/plain": [
       "             len  sum\n",
       "date                 \n",
       "2022-11-07  7427  351\n",
       "2022-11-08  7059  369\n",
       "2022-11-09  6947  343\n",
       "2022-11-10  7317  406\n",
       "2022-11-11  6836  322\n",
       "2022-11-12  7406  334\n",
       "2022-11-13  6807  324"
      ]
     },
     "execution_count": 17,
     "metadata": {},
     "output_type": "execute_result"
    }
   ],
   "source": [
    "data1.groupby('date')['conversions'].agg([len, np.sum])"
   ]
  },
  {
   "cell_type": "markdown",
   "metadata": {},
   "source": [
    "# Measure experiment for M-Th and Fri-Sun\n",
    "\n",
    "#### Null Hypothesis (H0): There is no difference in conversion rates between users exposed to ads on weekdays and users exposed to ads on weekends.\n",
    "#### Alternative Hypothesis (H1): There is a difference in conversion rates between users exposed to ads on weekdays and users exposed to ads on weekends."
   ]
  },
  {
   "cell_type": "code",
   "execution_count": 18,
   "metadata": {},
   "outputs": [],
   "source": [
    "# Split data between weekends and M-Th\n",
    "\n",
    "wkdaydf = data1[data1['date'] < '2022-11-11']\n",
    "wkenddf = data1[data1['date'] >= '2022-11-11']"
   ]
  },
  {
   "cell_type": "code",
   "execution_count": 29,
   "metadata": {},
   "outputs": [
    {
     "name": "stdout",
     "output_type": "stream",
     "text": [
      "Weekday DF shape:  28750  | Weekend DF shape:  21049\n"
     ]
    }
   ],
   "source": [
    "# Shapes\n",
    "\n",
    "print(\"Weekday DF shape: \", wkdaydf.shape[0], \" | Weekend DF shape: \", wkenddf.shape[0])"
   ]
  },
  {
   "cell_type": "code",
   "execution_count": 26,
   "metadata": {},
   "outputs": [
    {
     "name": "stderr",
     "output_type": "stream",
     "text": [
      "D:\\ProgramData\\Anaconda3\\lib\\site-packages\\ipykernel_launcher.py:3: SettingWithCopyWarning: \n",
      "A value is trying to be set on a copy of a slice from a DataFrame.\n",
      "Try using .loc[row_indexer,col_indexer] = value instead\n",
      "\n",
      "See the caveats in the documentation: https://pandas.pydata.org/pandas-docs/stable/user_guide/indexing.html#returning-a-view-versus-a-copy\n",
      "  This is separate from the ipykernel package so we can avoid doing imports until\n"
     ]
    }
   ],
   "source": [
    "# Create index field for weekday\n",
    "\n",
    "wkdaydf['ind'] = [i for i in range(wkdaydf.shape[0])]\n",
    "\n",
    "# Randomized list of numbers\n",
    "\n",
    "# Create a list of numbers to choose from\n",
    "nums = list(range(wkdaydf.shape[0]))\n",
    "\n",
    "# Choose a random sample of 5 numbers without repetition\n",
    "records_to_pick = random.sample(nums, wkenddf.shape[0])"
   ]
  },
  {
   "cell_type": "code",
   "execution_count": 33,
   "metadata": {},
   "outputs": [
    {
     "data": {
      "text/plain": [
       "21049"
      ]
     },
     "execution_count": 33,
     "metadata": {},
     "output_type": "execute_result"
    }
   ],
   "source": [
    "len(records_to_pick)"
   ]
  },
  {
   "cell_type": "code",
   "execution_count": 37,
   "metadata": {},
   "outputs": [
    {
     "name": "stderr",
     "output_type": "stream",
     "text": [
      "D:\\ProgramData\\Anaconda3\\lib\\site-packages\\ipykernel_launcher.py:7: SettingWithCopyWarning: \n",
      "A value is trying to be set on a copy of a slice from a DataFrame.\n",
      "Try using .loc[row_indexer,col_indexer] = value instead\n",
      "\n",
      "See the caveats in the documentation: https://pandas.pydata.org/pandas-docs/stable/user_guide/indexing.html#returning-a-view-versus-a-copy\n",
      "  import sys\n"
     ]
    },
    {
     "data": {
      "text/html": [
       "<div>\n",
       "<style scoped>\n",
       "    .dataframe tbody tr th:only-of-type {\n",
       "        vertical-align: middle;\n",
       "    }\n",
       "\n",
       "    .dataframe tbody tr th {\n",
       "        vertical-align: top;\n",
       "    }\n",
       "\n",
       "    .dataframe thead th {\n",
       "        text-align: right;\n",
       "    }\n",
       "</style>\n",
       "<table border=\"1\" class=\"dataframe\">\n",
       "  <thead>\n",
       "    <tr style=\"text-align: right;\">\n",
       "      <th></th>\n",
       "      <th>user_id</th>\n",
       "      <th>date</th>\n",
       "      <th>hour</th>\n",
       "      <th>impressions</th>\n",
       "      <th>clicks</th>\n",
       "      <th>video_midpoint</th>\n",
       "      <th>video_complete_views</th>\n",
       "      <th>asset</th>\n",
       "      <th>conversions</th>\n",
       "      <th>Week</th>\n",
       "    </tr>\n",
       "  </thead>\n",
       "  <tbody>\n",
       "    <tr>\n",
       "      <th>0</th>\n",
       "      <td>00007e57-36c3-49aa-9917-4266a59c3bea</td>\n",
       "      <td>2022-11-07</td>\n",
       "      <td>1</td>\n",
       "      <td>1</td>\n",
       "      <td>1</td>\n",
       "      <td>1</td>\n",
       "      <td>1</td>\n",
       "      <td>Asset1</td>\n",
       "      <td>0</td>\n",
       "      <td>Weekday</td>\n",
       "    </tr>\n",
       "    <tr>\n",
       "      <th>1</th>\n",
       "      <td>000449ee-3b62-4e56-be4e-f600a728bbc5</td>\n",
       "      <td>2022-11-08</td>\n",
       "      <td>4</td>\n",
       "      <td>1</td>\n",
       "      <td>0</td>\n",
       "      <td>0</td>\n",
       "      <td>0</td>\n",
       "      <td>Asset1</td>\n",
       "      <td>0</td>\n",
       "      <td>Weekday</td>\n",
       "    </tr>\n",
       "    <tr>\n",
       "      <th>11</th>\n",
       "      <td>00106248-d803-4542-9ae4-f870239a3e6a</td>\n",
       "      <td>2022-11-07</td>\n",
       "      <td>11</td>\n",
       "      <td>1</td>\n",
       "      <td>0</td>\n",
       "      <td>0</td>\n",
       "      <td>0</td>\n",
       "      <td>Asset1</td>\n",
       "      <td>0</td>\n",
       "      <td>Weekday</td>\n",
       "    </tr>\n",
       "    <tr>\n",
       "      <th>12</th>\n",
       "      <td>00106248-d803-4542-9ae4-f870239a3e6a</td>\n",
       "      <td>2022-11-08</td>\n",
       "      <td>9</td>\n",
       "      <td>1</td>\n",
       "      <td>0</td>\n",
       "      <td>0</td>\n",
       "      <td>0</td>\n",
       "      <td>Asset1</td>\n",
       "      <td>0</td>\n",
       "      <td>Weekday</td>\n",
       "    </tr>\n",
       "    <tr>\n",
       "      <th>13</th>\n",
       "      <td>0011a6d7-cfba-4e0f-92fc-4f3928dcf6b3</td>\n",
       "      <td>2022-11-08</td>\n",
       "      <td>8</td>\n",
       "      <td>2</td>\n",
       "      <td>0</td>\n",
       "      <td>0</td>\n",
       "      <td>0</td>\n",
       "      <td>Asset1</td>\n",
       "      <td>0</td>\n",
       "      <td>Weekday</td>\n",
       "    </tr>\n",
       "  </tbody>\n",
       "</table>\n",
       "</div>"
      ],
      "text/plain": [
       "                                 user_id        date  hour  impressions  \\\n",
       "0   00007e57-36c3-49aa-9917-4266a59c3bea  2022-11-07     1            1   \n",
       "1   000449ee-3b62-4e56-be4e-f600a728bbc5  2022-11-08     4            1   \n",
       "11  00106248-d803-4542-9ae4-f870239a3e6a  2022-11-07    11            1   \n",
       "12  00106248-d803-4542-9ae4-f870239a3e6a  2022-11-08     9            1   \n",
       "13  0011a6d7-cfba-4e0f-92fc-4f3928dcf6b3  2022-11-08     8            2   \n",
       "\n",
       "    clicks  video_midpoint  video_complete_views   asset  conversions     Week  \n",
       "0        1               1                     1  Asset1            0  Weekday  \n",
       "1        0               0                     0  Asset1            0  Weekday  \n",
       "11       0               0                     0  Asset1            0  Weekday  \n",
       "12       0               0                     0  Asset1            0  Weekday  \n",
       "13       0               0                     0  Asset1            0  Weekday  "
      ]
     },
     "execution_count": 37,
     "metadata": {},
     "output_type": "execute_result"
    }
   ],
   "source": [
    "# Filter for the randomization of records\n",
    "\n",
    "wkdaydffinal = wkdaydf[wkdaydf['ind'].isin(records_to_pick)]\n",
    "\n",
    "del wkdaydffinal['ind']\n",
    "\n",
    "wkdaydffinal['Week'] = [\"Weekday\" for i in range(wkdaydffinal.shape[0])]\n",
    "\n",
    "wkdaydffinal.head()"
   ]
  },
  {
   "cell_type": "code",
   "execution_count": 38,
   "metadata": {},
   "outputs": [
    {
     "name": "stderr",
     "output_type": "stream",
     "text": [
      "D:\\ProgramData\\Anaconda3\\lib\\site-packages\\ipykernel_launcher.py:3: SettingWithCopyWarning: \n",
      "A value is trying to be set on a copy of a slice from a DataFrame.\n",
      "Try using .loc[row_indexer,col_indexer] = value instead\n",
      "\n",
      "See the caveats in the documentation: https://pandas.pydata.org/pandas-docs/stable/user_guide/indexing.html#returning-a-view-versus-a-copy\n",
      "  This is separate from the ipykernel package so we can avoid doing imports until\n"
     ]
    }
   ],
   "source": [
    "# Create a field for week\n",
    "\n",
    "wkenddf['Week'] = ['Weekend' for i in range(wkenddf.shape[0])]"
   ]
  },
  {
   "cell_type": "code",
   "execution_count": 40,
   "metadata": {},
   "outputs": [
    {
     "data": {
      "text/html": [
       "<div>\n",
       "<style scoped>\n",
       "    .dataframe tbody tr th:only-of-type {\n",
       "        vertical-align: middle;\n",
       "    }\n",
       "\n",
       "    .dataframe tbody tr th {\n",
       "        vertical-align: top;\n",
       "    }\n",
       "\n",
       "    .dataframe thead th {\n",
       "        text-align: right;\n",
       "    }\n",
       "</style>\n",
       "<table border=\"1\" class=\"dataframe\">\n",
       "  <thead>\n",
       "    <tr style=\"text-align: right;\">\n",
       "      <th></th>\n",
       "      <th>user_id</th>\n",
       "      <th>date</th>\n",
       "      <th>hour</th>\n",
       "      <th>impressions</th>\n",
       "      <th>clicks</th>\n",
       "      <th>video_midpoint</th>\n",
       "      <th>video_complete_views</th>\n",
       "      <th>asset</th>\n",
       "      <th>conversions</th>\n",
       "      <th>Week</th>\n",
       "    </tr>\n",
       "  </thead>\n",
       "  <tbody>\n",
       "    <tr>\n",
       "      <th>3</th>\n",
       "      <td>0009d922-3cd3-4a9c-a70c-b1b2fcaa8bfa</td>\n",
       "      <td>2022-11-11</td>\n",
       "      <td>4</td>\n",
       "      <td>1</td>\n",
       "      <td>0</td>\n",
       "      <td>0</td>\n",
       "      <td>0</td>\n",
       "      <td>Asset1</td>\n",
       "      <td>0</td>\n",
       "      <td>Weekend</td>\n",
       "    </tr>\n",
       "    <tr>\n",
       "      <th>5</th>\n",
       "      <td>000c83bd-eb24-4f61-a2db-320d3261c601</td>\n",
       "      <td>2022-11-11</td>\n",
       "      <td>4</td>\n",
       "      <td>1</td>\n",
       "      <td>0</td>\n",
       "      <td>0</td>\n",
       "      <td>0</td>\n",
       "      <td>Asset1</td>\n",
       "      <td>0</td>\n",
       "      <td>Weekend</td>\n",
       "    </tr>\n",
       "    <tr>\n",
       "      <th>6</th>\n",
       "      <td>000d3542-ecd9-4886-b670-0d79de61631d</td>\n",
       "      <td>2022-11-12</td>\n",
       "      <td>5</td>\n",
       "      <td>1</td>\n",
       "      <td>0</td>\n",
       "      <td>0</td>\n",
       "      <td>0</td>\n",
       "      <td>Asset1</td>\n",
       "      <td>0</td>\n",
       "      <td>Weekend</td>\n",
       "    </tr>\n",
       "    <tr>\n",
       "      <th>7</th>\n",
       "      <td>000de28d-5893-4041-879e-f2dd91f5beed</td>\n",
       "      <td>2022-11-12</td>\n",
       "      <td>5</td>\n",
       "      <td>1</td>\n",
       "      <td>0</td>\n",
       "      <td>0</td>\n",
       "      <td>0</td>\n",
       "      <td>Asset1</td>\n",
       "      <td>0</td>\n",
       "      <td>Weekend</td>\n",
       "    </tr>\n",
       "    <tr>\n",
       "      <th>8</th>\n",
       "      <td>000f7ca7-b895-424a-9bb7-557277979a0e</td>\n",
       "      <td>2022-11-12</td>\n",
       "      <td>12</td>\n",
       "      <td>1</td>\n",
       "      <td>0</td>\n",
       "      <td>1</td>\n",
       "      <td>1</td>\n",
       "      <td>Asset1</td>\n",
       "      <td>0</td>\n",
       "      <td>Weekend</td>\n",
       "    </tr>\n",
       "  </tbody>\n",
       "</table>\n",
       "</div>"
      ],
      "text/plain": [
       "                                user_id        date  hour  impressions  \\\n",
       "3  0009d922-3cd3-4a9c-a70c-b1b2fcaa8bfa  2022-11-11     4            1   \n",
       "5  000c83bd-eb24-4f61-a2db-320d3261c601  2022-11-11     4            1   \n",
       "6  000d3542-ecd9-4886-b670-0d79de61631d  2022-11-12     5            1   \n",
       "7  000de28d-5893-4041-879e-f2dd91f5beed  2022-11-12     5            1   \n",
       "8  000f7ca7-b895-424a-9bb7-557277979a0e  2022-11-12    12            1   \n",
       "\n",
       "   clicks  video_midpoint  video_complete_views   asset  conversions     Week  \n",
       "3       0               0                     0  Asset1            0  Weekend  \n",
       "5       0               0                     0  Asset1            0  Weekend  \n",
       "6       0               0                     0  Asset1            0  Weekend  \n",
       "7       0               0                     0  Asset1            0  Weekend  \n",
       "8       0               1                     1  Asset1            0  Weekend  "
      ]
     },
     "execution_count": 40,
     "metadata": {},
     "output_type": "execute_result"
    }
   ],
   "source": [
    "wkenddf.head()"
   ]
  },
  {
   "cell_type": "code",
   "execution_count": 48,
   "metadata": {
    "scrolled": true
   },
   "outputs": [
    {
     "data": {
      "text/html": [
       "<div>\n",
       "<style scoped>\n",
       "    .dataframe tbody tr th:only-of-type {\n",
       "        vertical-align: middle;\n",
       "    }\n",
       "\n",
       "    .dataframe tbody tr th {\n",
       "        vertical-align: top;\n",
       "    }\n",
       "\n",
       "    .dataframe thead th {\n",
       "        text-align: right;\n",
       "    }\n",
       "</style>\n",
       "<table border=\"1\" class=\"dataframe\">\n",
       "  <thead>\n",
       "    <tr style=\"text-align: right;\">\n",
       "      <th></th>\n",
       "      <th>user_id</th>\n",
       "      <th>date</th>\n",
       "      <th>hour</th>\n",
       "      <th>impressions</th>\n",
       "      <th>clicks</th>\n",
       "      <th>video_midpoint</th>\n",
       "      <th>video_complete_views</th>\n",
       "      <th>asset</th>\n",
       "      <th>conversions</th>\n",
       "      <th>Week</th>\n",
       "      <th>Converted</th>\n",
       "      <th>Not Converted</th>\n",
       "    </tr>\n",
       "  </thead>\n",
       "  <tbody>\n",
       "    <tr>\n",
       "      <th>0</th>\n",
       "      <td>00007e57-36c3-49aa-9917-4266a59c3bea</td>\n",
       "      <td>2022-11-07</td>\n",
       "      <td>1</td>\n",
       "      <td>1</td>\n",
       "      <td>1</td>\n",
       "      <td>1</td>\n",
       "      <td>1</td>\n",
       "      <td>Asset1</td>\n",
       "      <td>0</td>\n",
       "      <td>Weekday</td>\n",
       "      <td>0</td>\n",
       "      <td>1</td>\n",
       "    </tr>\n",
       "    <tr>\n",
       "      <th>1</th>\n",
       "      <td>000449ee-3b62-4e56-be4e-f600a728bbc5</td>\n",
       "      <td>2022-11-08</td>\n",
       "      <td>4</td>\n",
       "      <td>1</td>\n",
       "      <td>0</td>\n",
       "      <td>0</td>\n",
       "      <td>0</td>\n",
       "      <td>Asset1</td>\n",
       "      <td>0</td>\n",
       "      <td>Weekday</td>\n",
       "      <td>0</td>\n",
       "      <td>1</td>\n",
       "    </tr>\n",
       "    <tr>\n",
       "      <th>11</th>\n",
       "      <td>00106248-d803-4542-9ae4-f870239a3e6a</td>\n",
       "      <td>2022-11-07</td>\n",
       "      <td>11</td>\n",
       "      <td>1</td>\n",
       "      <td>0</td>\n",
       "      <td>0</td>\n",
       "      <td>0</td>\n",
       "      <td>Asset1</td>\n",
       "      <td>0</td>\n",
       "      <td>Weekday</td>\n",
       "      <td>0</td>\n",
       "      <td>1</td>\n",
       "    </tr>\n",
       "    <tr>\n",
       "      <th>12</th>\n",
       "      <td>00106248-d803-4542-9ae4-f870239a3e6a</td>\n",
       "      <td>2022-11-08</td>\n",
       "      <td>9</td>\n",
       "      <td>1</td>\n",
       "      <td>0</td>\n",
       "      <td>0</td>\n",
       "      <td>0</td>\n",
       "      <td>Asset1</td>\n",
       "      <td>0</td>\n",
       "      <td>Weekday</td>\n",
       "      <td>0</td>\n",
       "      <td>1</td>\n",
       "    </tr>\n",
       "    <tr>\n",
       "      <th>13</th>\n",
       "      <td>0011a6d7-cfba-4e0f-92fc-4f3928dcf6b3</td>\n",
       "      <td>2022-11-08</td>\n",
       "      <td>8</td>\n",
       "      <td>2</td>\n",
       "      <td>0</td>\n",
       "      <td>0</td>\n",
       "      <td>0</td>\n",
       "      <td>Asset1</td>\n",
       "      <td>0</td>\n",
       "      <td>Weekday</td>\n",
       "      <td>0</td>\n",
       "      <td>1</td>\n",
       "    </tr>\n",
       "    <tr>\n",
       "      <th>...</th>\n",
       "      <td>...</td>\n",
       "      <td>...</td>\n",
       "      <td>...</td>\n",
       "      <td>...</td>\n",
       "      <td>...</td>\n",
       "      <td>...</td>\n",
       "      <td>...</td>\n",
       "      <td>...</td>\n",
       "      <td>...</td>\n",
       "      <td>...</td>\n",
       "      <td>...</td>\n",
       "      <td>...</td>\n",
       "    </tr>\n",
       "    <tr>\n",
       "      <th>49790</th>\n",
       "      <td>ffeead30-0c2b-410e-ba2d-54425fe6c884</td>\n",
       "      <td>2022-11-11</td>\n",
       "      <td>12</td>\n",
       "      <td>1</td>\n",
       "      <td>0</td>\n",
       "      <td>0</td>\n",
       "      <td>0</td>\n",
       "      <td>Asset2</td>\n",
       "      <td>0</td>\n",
       "      <td>Weekend</td>\n",
       "      <td>0</td>\n",
       "      <td>1</td>\n",
       "    </tr>\n",
       "    <tr>\n",
       "      <th>49791</th>\n",
       "      <td>fff09e24-4a7c-4c1c-81e9-add0b70648e8</td>\n",
       "      <td>2022-11-11</td>\n",
       "      <td>13</td>\n",
       "      <td>1</td>\n",
       "      <td>1</td>\n",
       "      <td>1</td>\n",
       "      <td>1</td>\n",
       "      <td>Asset2</td>\n",
       "      <td>0</td>\n",
       "      <td>Weekend</td>\n",
       "      <td>0</td>\n",
       "      <td>1</td>\n",
       "    </tr>\n",
       "    <tr>\n",
       "      <th>49792</th>\n",
       "      <td>fff24e72-cc60-4776-8ba0-251430c0c68d</td>\n",
       "      <td>2022-11-11</td>\n",
       "      <td>6</td>\n",
       "      <td>1</td>\n",
       "      <td>0</td>\n",
       "      <td>0</td>\n",
       "      <td>0</td>\n",
       "      <td>Asset2</td>\n",
       "      <td>0</td>\n",
       "      <td>Weekend</td>\n",
       "      <td>0</td>\n",
       "      <td>1</td>\n",
       "    </tr>\n",
       "    <tr>\n",
       "      <th>49793</th>\n",
       "      <td>fffaf0c3-04bc-4664-9be5-28c565624c1f</td>\n",
       "      <td>2022-11-12</td>\n",
       "      <td>2</td>\n",
       "      <td>1</td>\n",
       "      <td>0</td>\n",
       "      <td>0</td>\n",
       "      <td>0</td>\n",
       "      <td>Asset1</td>\n",
       "      <td>0</td>\n",
       "      <td>Weekend</td>\n",
       "      <td>0</td>\n",
       "      <td>1</td>\n",
       "    </tr>\n",
       "    <tr>\n",
       "      <th>49797</th>\n",
       "      <td>fffe40f1-19ed-4cf4-95ed-de4612a54fc5</td>\n",
       "      <td>2022-11-13</td>\n",
       "      <td>2</td>\n",
       "      <td>1</td>\n",
       "      <td>0</td>\n",
       "      <td>0</td>\n",
       "      <td>0</td>\n",
       "      <td>Asset2</td>\n",
       "      <td>0</td>\n",
       "      <td>Weekend</td>\n",
       "      <td>0</td>\n",
       "      <td>1</td>\n",
       "    </tr>\n",
       "  </tbody>\n",
       "</table>\n",
       "<p>42098 rows × 12 columns</p>\n",
       "</div>"
      ],
      "text/plain": [
       "                                    user_id        date  hour  impressions  \\\n",
       "0      00007e57-36c3-49aa-9917-4266a59c3bea  2022-11-07     1            1   \n",
       "1      000449ee-3b62-4e56-be4e-f600a728bbc5  2022-11-08     4            1   \n",
       "11     00106248-d803-4542-9ae4-f870239a3e6a  2022-11-07    11            1   \n",
       "12     00106248-d803-4542-9ae4-f870239a3e6a  2022-11-08     9            1   \n",
       "13     0011a6d7-cfba-4e0f-92fc-4f3928dcf6b3  2022-11-08     8            2   \n",
       "...                                     ...         ...   ...          ...   \n",
       "49790  ffeead30-0c2b-410e-ba2d-54425fe6c884  2022-11-11    12            1   \n",
       "49791  fff09e24-4a7c-4c1c-81e9-add0b70648e8  2022-11-11    13            1   \n",
       "49792  fff24e72-cc60-4776-8ba0-251430c0c68d  2022-11-11     6            1   \n",
       "49793  fffaf0c3-04bc-4664-9be5-28c565624c1f  2022-11-12     2            1   \n",
       "49797  fffe40f1-19ed-4cf4-95ed-de4612a54fc5  2022-11-13     2            1   \n",
       "\n",
       "       clicks  video_midpoint  video_complete_views   asset  conversions  \\\n",
       "0           1               1                     1  Asset1            0   \n",
       "1           0               0                     0  Asset1            0   \n",
       "11          0               0                     0  Asset1            0   \n",
       "12          0               0                     0  Asset1            0   \n",
       "13          0               0                     0  Asset1            0   \n",
       "...       ...             ...                   ...     ...          ...   \n",
       "49790       0               0                     0  Asset2            0   \n",
       "49791       1               1                     1  Asset2            0   \n",
       "49792       0               0                     0  Asset2            0   \n",
       "49793       0               0                     0  Asset1            0   \n",
       "49797       0               0                     0  Asset2            0   \n",
       "\n",
       "          Week  Converted  Not Converted  \n",
       "0      Weekday          0              1  \n",
       "1      Weekday          0              1  \n",
       "11     Weekday          0              1  \n",
       "12     Weekday          0              1  \n",
       "13     Weekday          0              1  \n",
       "...        ...        ...            ...  \n",
       "49790  Weekend          0              1  \n",
       "49791  Weekend          0              1  \n",
       "49792  Weekend          0              1  \n",
       "49793  Weekend          0              1  \n",
       "49797  Weekend          0              1  \n",
       "\n",
       "[42098 rows x 12 columns]"
      ]
     },
     "execution_count": 48,
     "metadata": {},
     "output_type": "execute_result"
    }
   ],
   "source": [
    "# Combine both data sets together\n",
    "\n",
    "df = pd.concat([wkdaydffinal, wkenddf])\n",
    "\n",
    "# Create fields for conversion\n",
    "\n",
    "df[\"Converted\"] = np.where(df['conversions'] == 1, 1, 0)\n",
    "df[\"Not Converted\"] = np.where(df['conversions'] == 0, 1, 0)\n",
    "\n",
    "df"
   ]
  },
  {
   "cell_type": "code",
   "execution_count": 45,
   "metadata": {},
   "outputs": [
    {
     "data": {
      "text/plain": [
       "Week     conversions\n",
       "Weekend  0              0.476721\n",
       "Weekday  0              0.473918\n",
       "         1              0.026082\n",
       "Weekend  1              0.023279\n",
       "dtype: float64"
      ]
     },
     "execution_count": 45,
     "metadata": {},
     "output_type": "execute_result"
    }
   ],
   "source": [
    "# Summarize to conversion rate\n",
    "\n",
    "df[['Week','conversions']].value_counts(normalize = True)"
   ]
  },
  {
   "cell_type": "code",
   "execution_count": 60,
   "metadata": {},
   "outputs": [],
   "source": [
    "# Pivot table\n",
    "\n",
    "pvt = pd.pivot_table(data = df, \n",
    "               values = ['Converted', 'Not Converted'], \n",
    "               index = 'Week', \n",
    "               aggfunc = np.sum, \n",
    "               margins = True, \n",
    "               margins_name='Grand Total')\n",
    "\n",
    "pvt['Total'] = pvt['Converted'] + pvt['Not Converted']\n"
   ]
  },
  {
   "cell_type": "code",
   "execution_count": 65,
   "metadata": {},
   "outputs": [
    {
     "data": {
      "text/html": [
       "<div>\n",
       "<style scoped>\n",
       "    .dataframe tbody tr th:only-of-type {\n",
       "        vertical-align: middle;\n",
       "    }\n",
       "\n",
       "    .dataframe tbody tr th {\n",
       "        vertical-align: top;\n",
       "    }\n",
       "\n",
       "    .dataframe thead th {\n",
       "        text-align: right;\n",
       "    }\n",
       "</style>\n",
       "<table border=\"1\" class=\"dataframe\">\n",
       "  <thead>\n",
       "    <tr style=\"text-align: right;\">\n",
       "      <th></th>\n",
       "      <th>Converted</th>\n",
       "      <th>Not Converted</th>\n",
       "      <th>Total</th>\n",
       "    </tr>\n",
       "    <tr>\n",
       "      <th>Week</th>\n",
       "      <th></th>\n",
       "      <th></th>\n",
       "      <th></th>\n",
       "    </tr>\n",
       "  </thead>\n",
       "  <tbody>\n",
       "    <tr>\n",
       "      <th>Weekday</th>\n",
       "      <td>1098</td>\n",
       "      <td>19951</td>\n",
       "      <td>21049</td>\n",
       "    </tr>\n",
       "    <tr>\n",
       "      <th>Weekend</th>\n",
       "      <td>980</td>\n",
       "      <td>20069</td>\n",
       "      <td>21049</td>\n",
       "    </tr>\n",
       "    <tr>\n",
       "      <th>Grand Total</th>\n",
       "      <td>2078</td>\n",
       "      <td>40020</td>\n",
       "      <td>42098</td>\n",
       "    </tr>\n",
       "  </tbody>\n",
       "</table>\n",
       "</div>"
      ],
      "text/plain": [
       "             Converted  Not Converted  Total\n",
       "Week                                        \n",
       "Weekday           1098          19951  21049\n",
       "Weekend            980          20069  21049\n",
       "Grand Total       2078          40020  42098"
      ]
     },
     "execution_count": 65,
     "metadata": {},
     "output_type": "execute_result"
    }
   ],
   "source": [
    "pvt"
   ]
  },
  {
   "cell_type": "code",
   "execution_count": 82,
   "metadata": {},
   "outputs": [
    {
     "name": "stdout",
     "output_type": "stream",
     "text": [
      "Chi-square statistic: 6.929638188605409 \n",
      " P-value:  0.008477883787320093 \n",
      " Degrees of Freedom:  1\n"
     ]
    }
   ],
   "source": [
    "chi2, p, dof, expected = chi2_contingency(pvt.iloc[0:2,0:2].to_numpy())\n",
    "\n",
    "print(\"Chi-square statistic:\", chi2, \"\\n P-value: \", p, \"\\n Degrees of Freedom: \", dof,)\n",
    "\n",
    "cr_wkday = pvt.iloc[0,0]/pvt.iloc[0,2]\n",
    "cr_wkend = pvt.iloc[1,0]/pvt.iloc[1,2]"
   ]
  },
  {
   "cell_type": "code",
   "execution_count": 108,
   "metadata": {
    "scrolled": true
   },
   "outputs": [
    {
     "name": "stdout",
     "output_type": "stream",
     "text": [
      "Cramer's V Effect Size: 0.012829937713758724\n"
     ]
    }
   ],
   "source": [
    "# Effect size\n",
    "\n",
    "def cramers_v(confusion_matrix):\n",
    "    chi2 = chi2_contingency(confusion_matrix)[0]\n",
    "    n = confusion_matrix.sum()\n",
    "    r, k = confusion_matrix.shape\n",
    "    return np.sqrt(chi2 / (n * min(k-1, r-1)))\n",
    "\n",
    "effect_size = cramers_v(pvt.iloc[0:2,0:2].to_numpy())\n",
    "\n",
    "print(\"Cramer's V Effect Size:\", effect_size)"
   ]
  },
  {
   "cell_type": "code",
   "execution_count": 111,
   "metadata": {},
   "outputs": [
    {
     "name": "stdout",
     "output_type": "stream",
     "text": [
      "Power: 0.7493556640946815\n"
     ]
    }
   ],
   "source": [
    "# Set parameters\n",
    "alpha = 0.05  # significance level\n",
    "sample_size = df.shape[0]  # sample size\n",
    "\n",
    "# Initialize power analysis\n",
    "power_analysis = GofChisquarePower()\n",
    "\n",
    "# Calculate power\n",
    "power = power_analysis.solve_power(effect_size=effect_size, nobs=sample_size, alpha=alpha)\n",
    "\n",
    "print(\"Power:\", power)"
   ]
  },
  {
   "cell_type": "code",
   "execution_count": 83,
   "metadata": {},
   "outputs": [
    {
     "name": "stdout",
     "output_type": "stream",
     "text": [
      "Weekday conversion rate:  5.216399828970497 % \n",
      " Weekend conversion rate:  4.655803126039242 %\n"
     ]
    }
   ],
   "source": [
    "print(\"Weekday conversion rate: \" , (cr_wkday) * 100, '%',\n",
    "      \"\\n\",\n",
    "      \"Weekend conversion rate: \", (cr_wkend) * 100, '%')"
   ]
  },
  {
   "cell_type": "code",
   "execution_count": 85,
   "metadata": {},
   "outputs": [
    {
     "name": "stdout",
     "output_type": "stream",
     "text": [
      "-10.746812386156648 %\n"
     ]
    }
   ],
   "source": [
    "# Lift percentage\n",
    "\n",
    "print(((cr_wkend - cr_wkday)/cr_wkday)* 100 , '%')"
   ]
  },
  {
   "cell_type": "code",
   "execution_count": 112,
   "metadata": {},
   "outputs": [
    {
     "data": {
      "text/plain": [
       "0.012829937713758724"
      ]
     },
     "execution_count": 112,
     "metadata": {},
     "output_type": "execute_result"
    }
   ],
   "source": [
    "effect_size"
   ]
  },
  {
   "cell_type": "markdown",
   "metadata": {},
   "source": [
    "#### As a conclusion, we reject the null hypothesis that the conversion rate between weekdays (M - TH) and (Fri - Sun) are not different in favor of the alternate hypothesis that states the opposite.  We received a p-value of 0.8% vs the significance level of 5% along with a lift ratio of -10.75% and a 75% power effect, which is strong."
   ]
  },
  {
   "cell_type": "code",
   "execution_count": null,
   "metadata": {},
   "outputs": [],
   "source": []
  },
  {
   "cell_type": "code",
   "execution_count": null,
   "metadata": {},
   "outputs": [],
   "source": []
  },
  {
   "cell_type": "code",
   "execution_count": null,
   "metadata": {},
   "outputs": [],
   "source": []
  },
  {
   "cell_type": "code",
   "execution_count": null,
   "metadata": {},
   "outputs": [],
   "source": []
  },
  {
   "cell_type": "code",
   "execution_count": null,
   "metadata": {},
   "outputs": [],
   "source": []
  },
  {
   "cell_type": "code",
   "execution_count": null,
   "metadata": {},
   "outputs": [],
   "source": []
  },
  {
   "cell_type": "code",
   "execution_count": null,
   "metadata": {},
   "outputs": [],
   "source": []
  },
  {
   "cell_type": "code",
   "execution_count": null,
   "metadata": {},
   "outputs": [],
   "source": []
  }
 ],
 "metadata": {
  "kernelspec": {
   "display_name": "Python 3",
   "language": "python",
   "name": "python3"
  },
  "language_info": {
   "codemirror_mode": {
    "name": "ipython",
    "version": 3
   },
   "file_extension": ".py",
   "mimetype": "text/x-python",
   "name": "python",
   "nbconvert_exporter": "python",
   "pygments_lexer": "ipython3",
   "version": "3.7.3"
  }
 },
 "nbformat": 4,
 "nbformat_minor": 2
}
