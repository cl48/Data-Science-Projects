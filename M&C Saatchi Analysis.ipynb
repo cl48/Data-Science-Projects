{
 "cells": [
  {
   "cell_type": "code",
   "execution_count": 15,
   "metadata": {},
   "outputs": [],
   "source": [
    "import pandas as pd\n",
    "import numpy as np\n",
    "import seaborn as sns\n",
    "from math import acos, cos, sin, asin, sqrt, pi\n",
    "from datetime import datetime\n",
    "from matplotlib import pyplot"
   ]
  },
  {
   "cell_type": "code",
   "execution_count": 16,
   "metadata": {},
   "outputs": [],
   "source": [
    "cdf = pd.read_csv(\"D:/Users/Visitor/World Services/Python/Data/click_data.csv\")\n",
    "idf = pd.read_csv(\"D:/Users/Visitor/World Services/Python/Data/impression_data.csv\")\n"
   ]
  },
  {
   "cell_type": "code",
   "execution_count": 17,
   "metadata": {},
   "outputs": [
    {
     "data": {
      "text/plain": [
       "(500, 9)"
      ]
     },
     "execution_count": 17,
     "metadata": {},
     "output_type": "execute_result"
    }
   ],
   "source": [
    "idf.merge(cdf, how = 'inner', on = 'event_id').shape"
   ]
  },
  {
   "cell_type": "code",
   "execution_count": 3,
   "metadata": {},
   "outputs": [
    {
     "data": {
      "text/html": [
       "<div>\n",
       "<style scoped>\n",
       "    .dataframe tbody tr th:only-of-type {\n",
       "        vertical-align: middle;\n",
       "    }\n",
       "\n",
       "    .dataframe tbody tr th {\n",
       "        vertical-align: top;\n",
       "    }\n",
       "\n",
       "    .dataframe thead th {\n",
       "        text-align: right;\n",
       "    }\n",
       "</style>\n",
       "<table border=\"1\" class=\"dataframe\">\n",
       "  <thead>\n",
       "    <tr style=\"text-align: right;\">\n",
       "      <th></th>\n",
       "      <th>event_id</th>\n",
       "      <th>timestamp</th>\n",
       "      <th>event</th>\n",
       "      <th>latitude</th>\n",
       "      <th>longitude</th>\n",
       "    </tr>\n",
       "  </thead>\n",
       "  <tbody>\n",
       "    <tr>\n",
       "      <th>0</th>\n",
       "      <td>90eccf8a-3365-488e-8bed-a76e6b00c817</td>\n",
       "      <td>1674193481</td>\n",
       "      <td>click</td>\n",
       "      <td>53.811679</td>\n",
       "      <td>-1.500</td>\n",
       "    </tr>\n",
       "    <tr>\n",
       "      <th>1</th>\n",
       "      <td>9a376add-88b9-484f-aafd-532ee45c8162</td>\n",
       "      <td>1673591862</td>\n",
       "      <td>click</td>\n",
       "      <td>54.327020</td>\n",
       "      <td>-2.746</td>\n",
       "    </tr>\n",
       "    <tr>\n",
       "      <th>2</th>\n",
       "      <td>e1d6ba80-c54e-4dbd-af50-e9c850d5a362</td>\n",
       "      <td>1674279977</td>\n",
       "      <td>click</td>\n",
       "      <td>51.007717</td>\n",
       "      <td>-1.269</td>\n",
       "    </tr>\n",
       "    <tr>\n",
       "      <th>3</th>\n",
       "      <td>f9832007-4eec-472a-bc69-fe8a43c89329</td>\n",
       "      <td>1673662721</td>\n",
       "      <td>click</td>\n",
       "      <td>53.392018</td>\n",
       "      <td>-2.198</td>\n",
       "    </tr>\n",
       "    <tr>\n",
       "      <th>4</th>\n",
       "      <td>41c30dec-e51f-4c8e-87c5-372364ac1617</td>\n",
       "      <td>1673175740</td>\n",
       "      <td>click</td>\n",
       "      <td>52.996029</td>\n",
       "      <td>-2.134</td>\n",
       "    </tr>\n",
       "  </tbody>\n",
       "</table>\n",
       "</div>"
      ],
      "text/plain": [
       "                               event_id   timestamp  event   latitude  \\\n",
       "0  90eccf8a-3365-488e-8bed-a76e6b00c817  1674193481  click  53.811679   \n",
       "1  9a376add-88b9-484f-aafd-532ee45c8162  1673591862  click  54.327020   \n",
       "2  e1d6ba80-c54e-4dbd-af50-e9c850d5a362  1674279977  click  51.007717   \n",
       "3  f9832007-4eec-472a-bc69-fe8a43c89329  1673662721  click  53.392018   \n",
       "4  41c30dec-e51f-4c8e-87c5-372364ac1617  1673175740  click  52.996029   \n",
       "\n",
       "   longitude  \n",
       "0     -1.500  \n",
       "1     -2.746  \n",
       "2     -1.269  \n",
       "3     -2.198  \n",
       "4     -2.134  "
      ]
     },
     "execution_count": 3,
     "metadata": {},
     "output_type": "execute_result"
    }
   ],
   "source": [
    "cdf.head()"
   ]
  },
  {
   "cell_type": "code",
   "execution_count": 4,
   "metadata": {},
   "outputs": [
    {
     "data": {
      "text/html": [
       "<div>\n",
       "<style scoped>\n",
       "    .dataframe tbody tr th:only-of-type {\n",
       "        vertical-align: middle;\n",
       "    }\n",
       "\n",
       "    .dataframe tbody tr th {\n",
       "        vertical-align: top;\n",
       "    }\n",
       "\n",
       "    .dataframe thead th {\n",
       "        text-align: right;\n",
       "    }\n",
       "</style>\n",
       "<table border=\"1\" class=\"dataframe\">\n",
       "  <thead>\n",
       "    <tr style=\"text-align: right;\">\n",
       "      <th></th>\n",
       "      <th>event_id</th>\n",
       "      <th>event</th>\n",
       "      <th>timestamp</th>\n",
       "      <th>latitude</th>\n",
       "      <th>longitude</th>\n",
       "    </tr>\n",
       "  </thead>\n",
       "  <tbody>\n",
       "    <tr>\n",
       "      <th>0</th>\n",
       "      <td>676a9e50-14b1-4761-bfa0-69ae4d4f9673</td>\n",
       "      <td>impression</td>\n",
       "      <td>1672578364</td>\n",
       "      <td>53.928281</td>\n",
       "      <td>-2.995</td>\n",
       "    </tr>\n",
       "    <tr>\n",
       "      <th>1</th>\n",
       "      <td>25dbb0d5-fcfe-4309-8131-c577dab35422</td>\n",
       "      <td>impression</td>\n",
       "      <td>1673069529</td>\n",
       "      <td>53.233343</td>\n",
       "      <td>-1.408</td>\n",
       "    </tr>\n",
       "    <tr>\n",
       "      <th>2</th>\n",
       "      <td>aba4d2e7-eb19-4058-8197-1d13b1f2aef6</td>\n",
       "      <td>impression</td>\n",
       "      <td>1672931568</td>\n",
       "      <td>51.634730</td>\n",
       "      <td>-0.133</td>\n",
       "    </tr>\n",
       "    <tr>\n",
       "      <th>3</th>\n",
       "      <td>0b56fe32-5f66-4572-8464-d2f4eab2b5e2</td>\n",
       "      <td>impression</td>\n",
       "      <td>1673199359</td>\n",
       "      <td>54.768000</td>\n",
       "      <td>-6.252</td>\n",
       "    </tr>\n",
       "    <tr>\n",
       "      <th>4</th>\n",
       "      <td>c5fee807-86a4-4e99-a7e4-f034385953b8</td>\n",
       "      <td>impression</td>\n",
       "      <td>1672851494</td>\n",
       "      <td>55.962784</td>\n",
       "      <td>-3.315</td>\n",
       "    </tr>\n",
       "  </tbody>\n",
       "</table>\n",
       "</div>"
      ],
      "text/plain": [
       "                               event_id       event   timestamp   latitude  \\\n",
       "0  676a9e50-14b1-4761-bfa0-69ae4d4f9673  impression  1672578364  53.928281   \n",
       "1  25dbb0d5-fcfe-4309-8131-c577dab35422  impression  1673069529  53.233343   \n",
       "2  aba4d2e7-eb19-4058-8197-1d13b1f2aef6  impression  1672931568  51.634730   \n",
       "3  0b56fe32-5f66-4572-8464-d2f4eab2b5e2  impression  1673199359  54.768000   \n",
       "4  c5fee807-86a4-4e99-a7e4-f034385953b8  impression  1672851494  55.962784   \n",
       "\n",
       "   longitude  \n",
       "0     -2.995  \n",
       "1     -1.408  \n",
       "2     -0.133  \n",
       "3     -6.252  \n",
       "4     -3.315  "
      ]
     },
     "execution_count": 4,
     "metadata": {},
     "output_type": "execute_result"
    }
   ],
   "source": [
    "idf.head()"
   ]
  },
  {
   "cell_type": "code",
   "execution_count": 18,
   "metadata": {},
   "outputs": [],
   "source": [
    "# Rearrange columns for click data\n",
    "\n",
    "cdf = cdf[['event_id', 'event', 'timestamp', 'latitude', 'longitude']]"
   ]
  },
  {
   "cell_type": "code",
   "execution_count": 19,
   "metadata": {},
   "outputs": [],
   "source": [
    "# Combine the click data and impression data and sort it\n",
    "\n",
    "df = pd.concat([idf, cdf], axis = 0).sort_values(['event_id','event'], ascending = [True, False])"
   ]
  },
  {
   "cell_type": "code",
   "execution_count": 7,
   "metadata": {},
   "outputs": [
    {
     "data": {
      "text/plain": [
       "(50000, 5)"
      ]
     },
     "execution_count": 7,
     "metadata": {},
     "output_type": "execute_result"
    }
   ],
   "source": [
    "df.shape"
   ]
  },
  {
   "cell_type": "code",
   "execution_count": 8,
   "metadata": {},
   "outputs": [
    {
     "data": {
      "text/html": [
       "<div>\n",
       "<style scoped>\n",
       "    .dataframe tbody tr th:only-of-type {\n",
       "        vertical-align: middle;\n",
       "    }\n",
       "\n",
       "    .dataframe tbody tr th {\n",
       "        vertical-align: top;\n",
       "    }\n",
       "\n",
       "    .dataframe thead th {\n",
       "        text-align: right;\n",
       "    }\n",
       "</style>\n",
       "<table border=\"1\" class=\"dataframe\">\n",
       "  <thead>\n",
       "    <tr style=\"text-align: right;\">\n",
       "      <th></th>\n",
       "      <th>event_id</th>\n",
       "      <th>event</th>\n",
       "      <th>timestamp</th>\n",
       "      <th>latitude</th>\n",
       "      <th>longitude</th>\n",
       "    </tr>\n",
       "  </thead>\n",
       "  <tbody>\n",
       "    <tr>\n",
       "      <th>18367</th>\n",
       "      <td>0001427e-0c58-4c53-b19c-28ba908c42f8</td>\n",
       "      <td>impression</td>\n",
       "      <td>1673065068</td>\n",
       "      <td>57.065623</td>\n",
       "      <td>-2.7920</td>\n",
       "    </tr>\n",
       "    <tr>\n",
       "      <th>2756</th>\n",
       "      <td>000229a7-d8da-4e09-9954-af8f67870757</td>\n",
       "      <td>impression</td>\n",
       "      <td>1674043626</td>\n",
       "      <td>51.485971</td>\n",
       "      <td>-1.0590</td>\n",
       "    </tr>\n",
       "    <tr>\n",
       "      <th>12436</th>\n",
       "      <td>00024dcf-7c89-40f4-9983-98ae688c2646</td>\n",
       "      <td>impression</td>\n",
       "      <td>1674660736</td>\n",
       "      <td>51.744923</td>\n",
       "      <td>-2.2180</td>\n",
       "    </tr>\n",
       "    <tr>\n",
       "      <th>42111</th>\n",
       "      <td>00041d32-f035-4275-a9b9-0ddf4088fbe6</td>\n",
       "      <td>impression</td>\n",
       "      <td>1674802321</td>\n",
       "      <td>51.905883</td>\n",
       "      <td>-2.1090</td>\n",
       "    </tr>\n",
       "    <tr>\n",
       "      <th>7276</th>\n",
       "      <td>00068bf7-60fd-48cb-859e-22ba00f25315</td>\n",
       "      <td>impression</td>\n",
       "      <td>1674533014</td>\n",
       "      <td>52.454296</td>\n",
       "      <td>0.2924</td>\n",
       "    </tr>\n",
       "  </tbody>\n",
       "</table>\n",
       "</div>"
      ],
      "text/plain": [
       "                                   event_id       event   timestamp  \\\n",
       "18367  0001427e-0c58-4c53-b19c-28ba908c42f8  impression  1673065068   \n",
       "2756   000229a7-d8da-4e09-9954-af8f67870757  impression  1674043626   \n",
       "12436  00024dcf-7c89-40f4-9983-98ae688c2646  impression  1674660736   \n",
       "42111  00041d32-f035-4275-a9b9-0ddf4088fbe6  impression  1674802321   \n",
       "7276   00068bf7-60fd-48cb-859e-22ba00f25315  impression  1674533014   \n",
       "\n",
       "        latitude  longitude  \n",
       "18367  57.065623    -2.7920  \n",
       "2756   51.485971    -1.0590  \n",
       "12436  51.744923    -2.2180  \n",
       "42111  51.905883    -2.1090  \n",
       "7276   52.454296     0.2924  "
      ]
     },
     "execution_count": 8,
     "metadata": {},
     "output_type": "execute_result"
    }
   ],
   "source": [
    "df.head()"
   ]
  },
  {
   "cell_type": "code",
   "execution_count": 20,
   "metadata": {},
   "outputs": [],
   "source": [
    "# Find multiple events\n",
    "\n",
    "# Create pivot table to group by event id and count\n",
    "\n",
    "df_mult = df.groupby(['event_id'])['event'].agg([len]).reset_index()\n",
    "\n",
    "# Create a list of event ids with multiple events\n",
    "\n",
    "mult_event_id = df_mult[df_mult['len'] > 1]['event_id'].to_list()"
   ]
  },
  {
   "cell_type": "code",
   "execution_count": 21,
   "metadata": {},
   "outputs": [],
   "source": [
    "# Find all the events that have impression and click\n",
    "\n",
    "impression = df[(df['event_id'].isin(mult_event_id)) & (df['event'].str.lower() == 'impression')]\n",
    "\n",
    "click = df[(df['event_id'].isin(mult_event_id)) & (df['event'].str.lower() == 'click')]\n",
    "\n",
    "# Join the data together\n",
    "\n",
    "iClick = impression.merge(click, how = 'inner', on = 'event_id')\n",
    "\n",
    "iClick.columns = ['imp_event_id', 'imp_event', 'imp_timestamp', 'imp_latitude', 'imp_longitude', 'clk_event', 'clk_timestamp', 'clk_latitude', 'clk_longitude']\n",
    "\n",
    "# Take the time difference between the click and impression\n",
    "\n",
    "iClick['seconds'] = iClick['clk_timestamp'] - iClick['imp_timestamp']\n"
   ]
  },
  {
   "cell_type": "code",
   "execution_count": 22,
   "metadata": {},
   "outputs": [],
   "source": [
    "# Convert seconds to hours in another column\n",
    "\n",
    "iClick['hours'] = iClick['seconds'] / 3600"
   ]
  },
  {
   "cell_type": "code",
   "execution_count": 24,
   "metadata": {},
   "outputs": [
    {
     "data": {
      "text/plain": [
       "[Text(0.5, 1.0, 'Histogram of Impression Latitude')]"
      ]
     },
     "execution_count": 24,
     "metadata": {},
     "output_type": "execute_result"
    },
    {
     "data": {
      "image/png": "[encoded data removed]",
      "text/plain": [
       "<Figure size 720x504 with 1 Axes>"
      ]
     },
     "metadata": {},
     "output_type": "display_data"
    }
   ],
   "source": [
    "# Histogram plot of impression latitude\n",
    "\n",
    "sns.set(rc={'figure.figsize':(10,7)})\n",
    "\n",
    "sns.histplot(data = iClick, x = 'imp_latitude', color = 'gray').set(title = 'Histogram of Impression Latitude')"
   ]
  },
  {
   "cell_type": "code",
   "execution_count": 28,
   "metadata": {},
   "outputs": [
    {
     "data": {
      "text/plain": [
       "[Text(0.5, 1.0, 'Histogram of Impression Longitude')]"
      ]
     },
     "execution_count": 28,
     "metadata": {},
     "output_type": "execute_result"
    },
    {
     "data": {
      "image/png": "[encoded data removed]",
      "text/plain": [
       "<Figure size 720x504 with 1 Axes>"
      ]
     },
     "metadata": {},
     "output_type": "display_data"
    }
   ],
   "source": [
    "# Histogram plot of impression longitude\n",
    "\n",
    "sns.set(rc={'figure.figsize':(10,7)})\n",
    "\n",
    "sns.histplot(data = iClick, x = 'imp_longitude', color = 'gray').set(title = 'Histogram of Impression Longitude')"
   ]
  },
  {
   "cell_type": "code",
   "execution_count": 30,
   "metadata": {},
   "outputs": [
    {
     "data": {
      "text/plain": [
       "[Text(0.5, 1.0, 'Histogram of Click Latitude')]"
      ]
     },
     "execution_count": 30,
     "metadata": {},
     "output_type": "execute_result"
    },
    {
     "data": {
      "image/png": "[encoded data removed]",
      "text/plain": [
       "<Figure size 720x504 with 1 Axes>"
      ]
     },
     "metadata": {},
     "output_type": "display_data"
    }
   ],
   "source": [
    "# Histogram plot of click latitude\n",
    "\n",
    "sns.set(rc={'figure.figsize':(10,7)})\n",
    "\n",
    "sns.histplot(data = iClick, x = 'clk_latitude', color = 'black').set(title = 'Histogram of Click Latitude')"
   ]
  },
  {
   "cell_type": "code",
   "execution_count": 31,
   "metadata": {},
   "outputs": [
    {
     "data": {
      "text/plain": [
       "[Text(0.5, 1.0, 'Histogram of Click Longitude')]"
      ]
     },
     "execution_count": 31,
     "metadata": {},
     "output_type": "execute_result"
    },
    {
     "data": {
      "image/png": "[encoded data removed]",
      "text/plain": [
       "<Figure size 720x504 with 1 Axes>"
      ]
     },
     "metadata": {},
     "output_type": "display_data"
    }
   ],
   "source": [
    "# Histogram plot of click longitude\n",
    "\n",
    "sns.set(rc={'figure.figsize':(10,7)})\n",
    "\n",
    "sns.histplot(data = iClick, x = 'clk_longitude', color = 'black').set(title = 'Histogram of Click Longitude')"
   ]
  },
  {
   "cell_type": "code",
   "execution_count": 23,
   "metadata": {},
   "outputs": [
    {
     "data": {
      "text/html": [
       "<div>\n",
       "<style scoped>\n",
       "    .dataframe tbody tr th:only-of-type {\n",
       "        vertical-align: middle;\n",
       "    }\n",
       "\n",
       "    .dataframe tbody tr th {\n",
       "        vertical-align: top;\n",
       "    }\n",
       "\n",
       "    .dataframe thead th {\n",
       "        text-align: right;\n",
       "    }\n",
       "</style>\n",
       "<table border=\"1\" class=\"dataframe\">\n",
       "  <thead>\n",
       "    <tr style=\"text-align: right;\">\n",
       "      <th></th>\n",
       "      <th>imp_event_id</th>\n",
       "      <th>imp_event</th>\n",
       "      <th>imp_timestamp</th>\n",
       "      <th>imp_latitude</th>\n",
       "      <th>imp_longitude</th>\n",
       "      <th>clk_event</th>\n",
       "      <th>clk_timestamp</th>\n",
       "      <th>clk_latitude</th>\n",
       "      <th>clk_longitude</th>\n",
       "      <th>seconds</th>\n",
       "      <th>hours</th>\n",
       "    </tr>\n",
       "  </thead>\n",
       "  <tbody>\n",
       "    <tr>\n",
       "      <th>149</th>\n",
       "      <td>49635c22-7333-44be-bf29-0b2957aa3ed7</td>\n",
       "      <td>impression</td>\n",
       "      <td>1674529640</td>\n",
       "      <td>0.0</td>\n",
       "      <td>0.0</td>\n",
       "      <td>click</td>\n",
       "      <td>1674589692</td>\n",
       "      <td>0.0</td>\n",
       "      <td>0.0</td>\n",
       "      <td>60052</td>\n",
       "      <td>16.681111</td>\n",
       "    </tr>\n",
       "  </tbody>\n",
       "</table>\n",
       "</div>"
      ],
      "text/plain": [
       "                             imp_event_id   imp_event  imp_timestamp  \\\n",
       "149  49635c22-7333-44be-bf29-0b2957aa3ed7  impression     1674529640   \n",
       "\n",
       "     imp_latitude  imp_longitude clk_event  clk_timestamp  clk_latitude  \\\n",
       "149           0.0            0.0     click     1674589692           0.0   \n",
       "\n",
       "     clk_longitude  seconds      hours  \n",
       "149            0.0    60052  16.681111  "
      ]
     },
     "execution_count": 23,
     "metadata": {},
     "output_type": "execute_result"
    }
   ],
   "source": [
    "# Finding the outlier latitude\n",
    "\n",
    "iClick[(iClick['imp_latitude'] == 0) | (iClick['clk_latitude'] == 0)]"
   ]
  },
  {
   "cell_type": "code",
   "execution_count": 24,
   "metadata": {},
   "outputs": [],
   "source": [
    "# Remove outlier as latitude = 0, longitude = 0 is null island\n",
    "\n",
    "iClickdf = iClick[iClick['imp_latitude'] != 0]\n"
   ]
  },
  {
   "cell_type": "code",
   "execution_count": 41,
   "metadata": {},
   "outputs": [
    {
     "data": {
      "text/plain": [
       "[Text(0.5, 1.0, 'Histogram of Impression Latitude after outlier removal')]"
      ]
     },
     "execution_count": 41,
     "metadata": {},
     "output_type": "execute_result"
    },
    {
     "data": {
      "image/png": "[encoded data removed]",
      "text/plain": [
       "<Figure size 720x504 with 1 Axes>"
      ]
     },
     "metadata": {},
     "output_type": "display_data"
    }
   ],
   "source": [
    "# Histogram plot of impression latitude after removal of outlier\n",
    "\n",
    "sns.set(rc={'figure.figsize':(10,7)})\n",
    "\n",
    "sns.histplot(data = iClickdf, x = 'imp_latitude', color = 'lightgreen').set(title = 'Histogram of Impression Latitude after outlier removal')"
   ]
  },
  {
   "cell_type": "code",
   "execution_count": 40,
   "metadata": {},
   "outputs": [
    {
     "data": {
      "text/plain": [
       "[Text(0.5, 1.0, 'Histogram of Click Latitude after outlier removal')]"
      ]
     },
     "execution_count": 40,
     "metadata": {},
     "output_type": "execute_result"
    },
    {
     "data": {
      "image/png": "[encoded data removed]",
      "text/plain": [
       "<Figure size 720x504 with 1 Axes>"
      ]
     },
     "metadata": {},
     "output_type": "display_data"
    }
   ],
   "source": [
    "# Histogram plot of click latitude after removal of outlier\n",
    "\n",
    "sns.set(rc={'figure.figsize':(10,7)})\n",
    "\n",
    "sns.histplot(data = iClickdf, x = 'clk_latitude', color = 'lightblue').set(title = 'Histogram of Click Latitude after outlier removal')"
   ]
  },
  {
   "cell_type": "code",
   "execution_count": 43,
   "metadata": {},
   "outputs": [
    {
     "data": {
      "text/plain": [
       "[Text(0.5, 1.0, 'Histogram of time difference in seconds')]"
      ]
     },
     "execution_count": 43,
     "metadata": {},
     "output_type": "execute_result"
    },
    {
     "data": {
      "image/png": "[encoded data removed]",
      "text/plain": [
       "<Figure size 720x504 with 1 Axes>"
      ]
     },
     "metadata": {},
     "output_type": "display_data"
    }
   ],
   "source": [
    "# Histogram plot of time difference in seconds\n",
    "\n",
    "sns.set(rc={'figure.figsize':(10,7)})\n",
    "\n",
    "sns.histplot(data = iClickdf, x = 'seconds', color = 'violet').set(title = 'Histogram of time difference in seconds')"
   ]
  },
  {
   "cell_type": "code",
   "execution_count": 25,
   "metadata": {},
   "outputs": [],
   "source": [
    "# Create distance formula between longitude and latitude in meters\n",
    "\n",
    "def distance(lat1, lon1, lat2, lon2):\n",
    "    p = pi/180\n",
    "    a = 0.5 - cos((lat2-lat1)*p)/2 + cos(lat1*p) * cos(lat2*p) * (1-cos((lon2-lon1)*p))/2\n",
    "    return 12742 * asin(sqrt(a))*1000"
   ]
  },
  {
   "cell_type": "code",
   "execution_count": 26,
   "metadata": {},
   "outputs": [
    {
     "name": "stderr",
     "output_type": "stream",
     "text": [
      "D:\\ProgramData\\Anaconda3\\lib\\site-packages\\ipykernel_launcher.py:3: SettingWithCopyWarning: \n",
      "A value is trying to be set on a copy of a slice from a DataFrame.\n",
      "Try using .loc[row_indexer,col_indexer] = value instead\n",
      "\n",
      "See the caveats in the documentation: https://pandas.pydata.org/pandas-docs/stable/user_guide/indexing.html#returning-a-view-versus-a-copy\n",
      "  This is separate from the ipykernel package so we can avoid doing imports until\n"
     ]
    }
   ],
   "source": [
    "# Calculate distance and create a column\n",
    "\n",
    "iClickdf['meter'] = iClickdf.apply(lambda x: distance(x['imp_latitude'], x['imp_longitude'], x['clk_latitude'], x['clk_longitude']), axis = 1)\n"
   ]
  },
  {
   "cell_type": "code",
   "execution_count": 27,
   "metadata": {},
   "outputs": [
    {
     "name": "stderr",
     "output_type": "stream",
     "text": [
      "D:\\ProgramData\\Anaconda3\\lib\\site-packages\\ipykernel_launcher.py:3: SettingWithCopyWarning: \n",
      "A value is trying to be set on a copy of a slice from a DataFrame.\n",
      "Try using .loc[row_indexer,col_indexer] = value instead\n",
      "\n",
      "See the caveats in the documentation: https://pandas.pydata.org/pandas-docs/stable/user_guide/indexing.html#returning-a-view-versus-a-copy\n",
      "  This is separate from the ipykernel package so we can avoid doing imports until\n",
      "D:\\ProgramData\\Anaconda3\\lib\\site-packages\\ipykernel_launcher.py:7: SettingWithCopyWarning: \n",
      "A value is trying to be set on a copy of a slice from a DataFrame.\n",
      "Try using .loc[row_indexer,col_indexer] = value instead\n",
      "\n",
      "See the caveats in the documentation: https://pandas.pydata.org/pandas-docs/stable/user_guide/indexing.html#returning-a-view-versus-a-copy\n",
      "  import sys\n",
      "D:\\ProgramData\\Anaconda3\\lib\\site-packages\\ipykernel_launcher.py:9: SettingWithCopyWarning: \n",
      "A value is trying to be set on a copy of a slice from a DataFrame.\n",
      "Try using .loc[row_indexer,col_indexer] = value instead\n",
      "\n",
      "See the caveats in the documentation: https://pandas.pydata.org/pandas-docs/stable/user_guide/indexing.html#returning-a-view-versus-a-copy\n",
      "  if __name__ == '__main__':\n"
     ]
    }
   ],
   "source": [
    "# Convert meters to km\n",
    "\n",
    "iClickdf['km'] = iClickdf['meter']/1000\n",
    "\n",
    "# Create distance per time\n",
    "\n",
    "iClickdf['meters_per_hr'] = iClickdf['meter'] / iClick['hours']\n",
    "\n",
    "iClickdf['km_per_hr'] = iClickdf['km'] / iClick['hours']"
   ]
  },
  {
   "cell_type": "code",
   "execution_count": 28,
   "metadata": {},
   "outputs": [
    {
     "data": {
      "text/html": [
       "<div>\n",
       "<style scoped>\n",
       "    .dataframe tbody tr th:only-of-type {\n",
       "        vertical-align: middle;\n",
       "    }\n",
       "\n",
       "    .dataframe tbody tr th {\n",
       "        vertical-align: top;\n",
       "    }\n",
       "\n",
       "    .dataframe thead th {\n",
       "        text-align: right;\n",
       "    }\n",
       "</style>\n",
       "<table border=\"1\" class=\"dataframe\">\n",
       "  <thead>\n",
       "    <tr style=\"text-align: right;\">\n",
       "      <th></th>\n",
       "      <th>imp_event_id</th>\n",
       "      <th>imp_event</th>\n",
       "      <th>imp_timestamp</th>\n",
       "      <th>imp_latitude</th>\n",
       "      <th>imp_longitude</th>\n",
       "      <th>clk_event</th>\n",
       "      <th>clk_timestamp</th>\n",
       "      <th>clk_latitude</th>\n",
       "      <th>clk_longitude</th>\n",
       "      <th>seconds</th>\n",
       "      <th>hours</th>\n",
       "      <th>meter</th>\n",
       "      <th>km</th>\n",
       "      <th>meters_per_hr</th>\n",
       "      <th>km_per_hr</th>\n",
       "    </tr>\n",
       "  </thead>\n",
       "  <tbody>\n",
       "    <tr>\n",
       "      <th>0</th>\n",
       "      <td>009751f5-fb31-4289-81d8-fc1e2d081cb1</td>\n",
       "      <td>impression</td>\n",
       "      <td>1673743286</td>\n",
       "      <td>51.930807</td>\n",
       "      <td>-2.404</td>\n",
       "      <td>click</td>\n",
       "      <td>1673764631</td>\n",
       "      <td>51.930400</td>\n",
       "      <td>-2.405</td>\n",
       "      <td>21345</td>\n",
       "      <td>5.929167</td>\n",
       "      <td>82.153704</td>\n",
       "      <td>0.082154</td>\n",
       "      <td>13.855860</td>\n",
       "      <td>0.013856</td>\n",
       "    </tr>\n",
       "    <tr>\n",
       "      <th>1</th>\n",
       "      <td>009e0998-678c-4be5-9b4b-e02df8a713e8</td>\n",
       "      <td>impression</td>\n",
       "      <td>1673515173</td>\n",
       "      <td>53.005340</td>\n",
       "      <td>-2.165</td>\n",
       "      <td>click</td>\n",
       "      <td>1673535927</td>\n",
       "      <td>53.010296</td>\n",
       "      <td>-2.156</td>\n",
       "      <td>20754</td>\n",
       "      <td>5.765000</td>\n",
       "      <td>816.264673</td>\n",
       "      <td>0.816265</td>\n",
       "      <td>141.589709</td>\n",
       "      <td>0.141590</td>\n",
       "    </tr>\n",
       "    <tr>\n",
       "      <th>2</th>\n",
       "      <td>00a0bd9e-1690-48a4-910f-8173c4a8b5a4</td>\n",
       "      <td>impression</td>\n",
       "      <td>1673218989</td>\n",
       "      <td>51.648776</td>\n",
       "      <td>-0.422</td>\n",
       "      <td>click</td>\n",
       "      <td>1673254912</td>\n",
       "      <td>51.648776</td>\n",
       "      <td>-0.422</td>\n",
       "      <td>35923</td>\n",
       "      <td>9.978611</td>\n",
       "      <td>0.000000</td>\n",
       "      <td>0.000000</td>\n",
       "      <td>0.000000</td>\n",
       "      <td>0.000000</td>\n",
       "    </tr>\n",
       "    <tr>\n",
       "      <th>3</th>\n",
       "      <td>00a707a6-0635-49f7-a43a-b1ef29840104</td>\n",
       "      <td>impression</td>\n",
       "      <td>1674002717</td>\n",
       "      <td>53.377000</td>\n",
       "      <td>-3.118</td>\n",
       "      <td>click</td>\n",
       "      <td>1674057098</td>\n",
       "      <td>53.375198</td>\n",
       "      <td>-3.128</td>\n",
       "      <td>54381</td>\n",
       "      <td>15.105833</td>\n",
       "      <td>692.946531</td>\n",
       "      <td>0.692947</td>\n",
       "      <td>45.872777</td>\n",
       "      <td>0.045873</td>\n",
       "    </tr>\n",
       "    <tr>\n",
       "      <th>4</th>\n",
       "      <td>00e695f3-9ef4-46a0-82a6-05f8d66307f8</td>\n",
       "      <td>impression</td>\n",
       "      <td>1673554910</td>\n",
       "      <td>57.664668</td>\n",
       "      <td>-2.520</td>\n",
       "      <td>click</td>\n",
       "      <td>1673562082</td>\n",
       "      <td>57.665259</td>\n",
       "      <td>-2.521</td>\n",
       "      <td>7172</td>\n",
       "      <td>1.992222</td>\n",
       "      <td>88.633317</td>\n",
       "      <td>0.088633</td>\n",
       "      <td>44.489674</td>\n",
       "      <td>0.044490</td>\n",
       "    </tr>\n",
       "  </tbody>\n",
       "</table>\n",
       "</div>"
      ],
      "text/plain": [
       "                           imp_event_id   imp_event  imp_timestamp  \\\n",
       "0  009751f5-fb31-4289-81d8-fc1e2d081cb1  impression     1673743286   \n",
       "1  009e0998-678c-4be5-9b4b-e02df8a713e8  impression     1673515173   \n",
       "2  00a0bd9e-1690-48a4-910f-8173c4a8b5a4  impression     1673218989   \n",
       "3  00a707a6-0635-49f7-a43a-b1ef29840104  impression     1674002717   \n",
       "4  00e695f3-9ef4-46a0-82a6-05f8d66307f8  impression     1673554910   \n",
       "\n",
       "   imp_latitude  imp_longitude clk_event  clk_timestamp  clk_latitude  \\\n",
       "0     51.930807         -2.404     click     1673764631     51.930400   \n",
       "1     53.005340         -2.165     click     1673535927     53.010296   \n",
       "2     51.648776         -0.422     click     1673254912     51.648776   \n",
       "3     53.377000         -3.118     click     1674057098     53.375198   \n",
       "4     57.664668         -2.520     click     1673562082     57.665259   \n",
       "\n",
       "   clk_longitude  seconds      hours       meter        km  meters_per_hr  \\\n",
       "0         -2.405    21345   5.929167   82.153704  0.082154      13.855860   \n",
       "1         -2.156    20754   5.765000  816.264673  0.816265     141.589709   \n",
       "2         -0.422    35923   9.978611    0.000000  0.000000       0.000000   \n",
       "3         -3.128    54381  15.105833  692.946531  0.692947      45.872777   \n",
       "4         -2.521     7172   1.992222   88.633317  0.088633      44.489674   \n",
       "\n",
       "   km_per_hr  \n",
       "0   0.013856  \n",
       "1   0.141590  \n",
       "2   0.000000  \n",
       "3   0.045873  \n",
       "4   0.044490  "
      ]
     },
     "execution_count": 28,
     "metadata": {},
     "output_type": "execute_result"
    }
   ],
   "source": [
    "iClickdf.head()"
   ]
  },
  {
   "cell_type": "code",
   "execution_count": 29,
   "metadata": {},
   "outputs": [
    {
     "data": {
      "text/plain": [
       "[Text(0.5, 1, 'Heatmap Correlation Map')]"
      ]
     },
     "execution_count": 29,
     "metadata": {},
     "output_type": "execute_result"
    },
    {
     "data": {
      "image/png": "[encoded data removed]",
      "text/plain": [
       "<Figure size 720x576 with 2 Axes>"
      ]
     },
     "metadata": {
      "needs_background": "light"
     },
     "output_type": "display_data"
    }
   ],
   "source": [
    "# Heatmap Correlation Matrix\n",
    "\n",
    "dim = (10, 8)\n",
    "\n",
    "fig, ax = pyplot.subplots(figsize = dim)\n",
    "\n",
    "sns.heatmap(iClickdf[['hours','km','km_per_hr']].corr()).set(title = 'Heatmap Correlation Map')"
   ]
  },
  {
   "cell_type": "code",
   "execution_count": 59,
   "metadata": {},
   "outputs": [
    {
     "data": {
      "text/plain": [
       "[Text(0.5, 1.0, 'Scatterplot of Distance (km) vs Hours spent from Impression to Click')]"
      ]
     },
     "execution_count": 59,
     "metadata": {},
     "output_type": "execute_result"
    },
    {
     "data": {
      "image/png": "[encoded data removed]",
      "text/plain": [
       "<Figure size 936x720 with 1 Axes>"
      ]
     },
     "metadata": {},
     "output_type": "display_data"
    }
   ],
   "source": [
    "# Create scatterplot to find outliers\n",
    "\n",
    "dim = (13, 10)\n",
    "\n",
    "fig, ax = pyplot.subplots(figsize = dim)\n",
    "\n",
    "ax.grid(True)\n",
    "\n",
    "sns.scatterplot(data = iClickdf, x = 'hours', y = 'km', color = 'black', ).set(title = 'Scatterplot of Distance (km) vs Hours spent from Impression to Click')"
   ]
  },
  {
   "cell_type": "code",
   "execution_count": 52,
   "metadata": {},
   "outputs": [
    {
     "data": {
      "text/plain": [
       "[Text(0.5, 1.0, 'Boxplot of Distance')]"
      ]
     },
     "execution_count": 52,
     "metadata": {},
     "output_type": "execute_result"
    },
    {
     "data": {
      "image/png": "[encoded data removed]",
      "text/plain": [
       "<Figure size 936x720 with 1 Axes>"
      ]
     },
     "metadata": {},
     "output_type": "display_data"
    }
   ],
   "source": [
    "# Create boxplot to find outliers\n",
    "\n",
    "dim = (13, 10)\n",
    "\n",
    "fig, ax = pyplot.subplots(figsize = dim)\n",
    "\n",
    "sns.boxplot(x = iClickdf['km'], color = 'green').set(title = \"Boxplot of Distance\")\n"
   ]
  },
  {
   "cell_type": "markdown",
   "metadata": {},
   "source": [
    "# Segment the data by distance and kmph"
   ]
  },
  {
   "cell_type": "code",
   "execution_count": 42,
   "metadata": {},
   "outputs": [
    {
     "name": "stderr",
     "output_type": "stream",
     "text": [
      "D:\\ProgramData\\Anaconda3\\lib\\site-packages\\ipykernel_launcher.py:8: SettingWithCopyWarning: \n",
      "A value is trying to be set on a copy of a slice from a DataFrame.\n",
      "Try using .loc[row_indexer,col_indexer] = value instead\n",
      "\n",
      "See the caveats in the documentation: https://pandas.pydata.org/pandas-docs/stable/user_guide/indexing.html#returning-a-view-versus-a-copy\n",
      "  \n"
     ]
    }
   ],
   "source": [
    "# Create 3 segments\n",
    "# Segment 1: Distance = 0, this means person was stable or at home\n",
    "# Segment 2: Kmph <= 5, indicate walking\n",
    "# Segment 3: Kmph > 5, this indicates person is in vehicle\n",
    "\n",
    "iClickdf['Setting'] = np.where(iClickdf['km_per_hr'] == 0, 'Stable',\n",
    "                              np.where(iClickdf['km_per_hr'] <= 5, 'Walking',\n",
    "                                    np.where(iClickdf['km_per_hr'] > 5, 'Vehicle', 'Issue')))"
   ]
  },
  {
   "cell_type": "code",
   "execution_count": 73,
   "metadata": {},
   "outputs": [
    {
     "name": "stderr",
     "output_type": "stream",
     "text": [
      "D:\\ProgramData\\Anaconda3\\lib\\site-packages\\ipykernel_launcher.py:3: FutureWarning: Indexing with multiple keys (implicitly converted to a tuple of keys) will be deprecated, use a list instead.\n",
      "  This is separate from the ipykernel package so we can avoid doing imports until\n"
     ]
    },
    {
     "data": {
      "text/html": [
       "<div>\n",
       "<style scoped>\n",
       "    .dataframe tbody tr th:only-of-type {\n",
       "        vertical-align: middle;\n",
       "    }\n",
       "\n",
       "    .dataframe tbody tr th {\n",
       "        vertical-align: top;\n",
       "    }\n",
       "\n",
       "    .dataframe thead th {\n",
       "        text-align: right;\n",
       "    }\n",
       "</style>\n",
       "<table border=\"1\" class=\"dataframe\">\n",
       "  <thead>\n",
       "    <tr style=\"text-align: right;\">\n",
       "      <th></th>\n",
       "      <th>Setting</th>\n",
       "      <th>Avg hours</th>\n",
       "      <th>Avg km</th>\n",
       "      <th>Avg kmph</th>\n",
       "    </tr>\n",
       "  </thead>\n",
       "  <tbody>\n",
       "    <tr>\n",
       "      <th>0</th>\n",
       "      <td>Stable</td>\n",
       "      <td>12.448827</td>\n",
       "      <td>0.000000</td>\n",
       "      <td>0.000000</td>\n",
       "    </tr>\n",
       "    <tr>\n",
       "      <th>1</th>\n",
       "      <td>Vehicle</td>\n",
       "      <td>3.210861</td>\n",
       "      <td>36.680158</td>\n",
       "      <td>28.702190</td>\n",
       "    </tr>\n",
       "    <tr>\n",
       "      <th>2</th>\n",
       "      <td>Walking</td>\n",
       "      <td>11.849802</td>\n",
       "      <td>2.552326</td>\n",
       "      <td>0.332745</td>\n",
       "    </tr>\n",
       "  </tbody>\n",
       "</table>\n",
       "</div>"
      ],
      "text/plain": [
       "   Setting  Avg hours     Avg km   Avg kmph\n",
       "0   Stable  12.448827   0.000000   0.000000\n",
       "1  Vehicle   3.210861  36.680158  28.702190\n",
       "2  Walking  11.849802   2.552326   0.332745"
      ]
     },
     "execution_count": 73,
     "metadata": {},
     "output_type": "execute_result"
    }
   ],
   "source": [
    "# Create pivot table\n",
    "\n",
    "summary = iClickdf.groupby(['Setting'])['hours','km','km_per_hr'].agg([np.mean])\n",
    "\n",
    "summary.reset_index(inplace = True)\n",
    "summary.columns = summary.columns.droplevel(0)\n",
    "summary.columns = ['Setting','Avg hours','Avg km', 'Avg kmph']\n",
    "\n",
    "summary"
   ]
  },
  {
   "cell_type": "code",
   "execution_count": 84,
   "metadata": {},
   "outputs": [
    {
     "data": {
      "text/html": [
       "<div>\n",
       "<style scoped>\n",
       "    .dataframe tbody tr th:only-of-type {\n",
       "        vertical-align: middle;\n",
       "    }\n",
       "\n",
       "    .dataframe tbody tr th {\n",
       "        vertical-align: top;\n",
       "    }\n",
       "\n",
       "    .dataframe thead th {\n",
       "        text-align: right;\n",
       "    }\n",
       "</style>\n",
       "<table border=\"1\" class=\"dataframe\">\n",
       "  <thead>\n",
       "    <tr style=\"text-align: right;\">\n",
       "      <th></th>\n",
       "      <th>Setting</th>\n",
       "      <th>Count</th>\n",
       "    </tr>\n",
       "  </thead>\n",
       "  <tbody>\n",
       "    <tr>\n",
       "      <th>0</th>\n",
       "      <td>Stable</td>\n",
       "      <td>9</td>\n",
       "    </tr>\n",
       "    <tr>\n",
       "      <th>1</th>\n",
       "      <td>Vehicle</td>\n",
       "      <td>10</td>\n",
       "    </tr>\n",
       "    <tr>\n",
       "      <th>2</th>\n",
       "      <td>Walking</td>\n",
       "      <td>480</td>\n",
       "    </tr>\n",
       "  </tbody>\n",
       "</table>\n",
       "</div>"
      ],
      "text/plain": [
       "   Setting  Count\n",
       "0   Stable      9\n",
       "1  Vehicle     10\n",
       "2  Walking    480"
      ]
     },
     "execution_count": 84,
     "metadata": {},
     "output_type": "execute_result"
    }
   ],
   "source": [
    "# Count of setting\n",
    "\n",
    "setting_count = iClickdf.groupby(['Setting'])['imp_event_id'].agg([len])\n",
    "\n",
    "setting_count.columns = ['Count']\n",
    "setting_count.reset_index(inplace = True)\n",
    "\n",
    "setting_count"
   ]
  },
  {
   "cell_type": "code",
   "execution_count": 86,
   "metadata": {},
   "outputs": [
    {
     "data": {
      "text/html": [
       "<div>\n",
       "<style scoped>\n",
       "    .dataframe tbody tr th:only-of-type {\n",
       "        vertical-align: middle;\n",
       "    }\n",
       "\n",
       "    .dataframe tbody tr th {\n",
       "        vertical-align: top;\n",
       "    }\n",
       "\n",
       "    .dataframe thead th {\n",
       "        text-align: right;\n",
       "    }\n",
       "</style>\n",
       "<table border=\"1\" class=\"dataframe\">\n",
       "  <thead>\n",
       "    <tr style=\"text-align: right;\">\n",
       "      <th></th>\n",
       "      <th>Setting</th>\n",
       "      <th>Avg hours</th>\n",
       "      <th>Avg km</th>\n",
       "      <th>Avg kmph</th>\n",
       "      <th>Count</th>\n",
       "    </tr>\n",
       "  </thead>\n",
       "  <tbody>\n",
       "    <tr>\n",
       "      <th>0</th>\n",
       "      <td>Stable</td>\n",
       "      <td>12.448827</td>\n",
       "      <td>0.000000</td>\n",
       "      <td>0.000000</td>\n",
       "      <td>9</td>\n",
       "    </tr>\n",
       "    <tr>\n",
       "      <th>1</th>\n",
       "      <td>Vehicle</td>\n",
       "      <td>3.210861</td>\n",
       "      <td>36.680158</td>\n",
       "      <td>28.702190</td>\n",
       "      <td>10</td>\n",
       "    </tr>\n",
       "    <tr>\n",
       "      <th>2</th>\n",
       "      <td>Walking</td>\n",
       "      <td>11.849802</td>\n",
       "      <td>2.552326</td>\n",
       "      <td>0.332745</td>\n",
       "      <td>480</td>\n",
       "    </tr>\n",
       "  </tbody>\n",
       "</table>\n",
       "</div>"
      ],
      "text/plain": [
       "   Setting  Avg hours     Avg km   Avg kmph  Count\n",
       "0   Stable  12.448827   0.000000   0.000000      9\n",
       "1  Vehicle   3.210861  36.680158  28.702190     10\n",
       "2  Walking  11.849802   2.552326   0.332745    480"
      ]
     },
     "execution_count": 86,
     "metadata": {},
     "output_type": "execute_result"
    }
   ],
   "source": [
    "# Combine both pvt tables together\n",
    "\n",
    "summary_combine = pd.concat([summary, setting_count['Count']], axis = 1)\n",
    "\n",
    "summary_combine.columns\n",
    "\n",
    "summary_combine"
   ]
  },
  {
   "cell_type": "code",
   "execution_count": 90,
   "metadata": {},
   "outputs": [
    {
     "data": {
      "text/html": [
       "<div>\n",
       "<style scoped>\n",
       "    .dataframe tbody tr th:only-of-type {\n",
       "        vertical-align: middle;\n",
       "    }\n",
       "\n",
       "    .dataframe tbody tr th {\n",
       "        vertical-align: top;\n",
       "    }\n",
       "\n",
       "    .dataframe thead th {\n",
       "        text-align: right;\n",
       "    }\n",
       "</style>\n",
       "<table border=\"1\" class=\"dataframe\">\n",
       "  <thead>\n",
       "    <tr style=\"text-align: right;\">\n",
       "      <th></th>\n",
       "      <th>Setting</th>\n",
       "      <th>Types</th>\n",
       "      <th>Metric</th>\n",
       "    </tr>\n",
       "  </thead>\n",
       "  <tbody>\n",
       "    <tr>\n",
       "      <th>0</th>\n",
       "      <td>Stable</td>\n",
       "      <td>Avg hours</td>\n",
       "      <td>12.448827</td>\n",
       "    </tr>\n",
       "    <tr>\n",
       "      <th>1</th>\n",
       "      <td>Vehicle</td>\n",
       "      <td>Avg hours</td>\n",
       "      <td>3.210861</td>\n",
       "    </tr>\n",
       "    <tr>\n",
       "      <th>2</th>\n",
       "      <td>Walking</td>\n",
       "      <td>Avg hours</td>\n",
       "      <td>11.849802</td>\n",
       "    </tr>\n",
       "    <tr>\n",
       "      <th>3</th>\n",
       "      <td>Stable</td>\n",
       "      <td>Avg km</td>\n",
       "      <td>0.000000</td>\n",
       "    </tr>\n",
       "    <tr>\n",
       "      <th>4</th>\n",
       "      <td>Vehicle</td>\n",
       "      <td>Avg km</td>\n",
       "      <td>36.680158</td>\n",
       "    </tr>\n",
       "    <tr>\n",
       "      <th>5</th>\n",
       "      <td>Walking</td>\n",
       "      <td>Avg km</td>\n",
       "      <td>2.552326</td>\n",
       "    </tr>\n",
       "    <tr>\n",
       "      <th>6</th>\n",
       "      <td>Stable</td>\n",
       "      <td>Avg kmph</td>\n",
       "      <td>0.000000</td>\n",
       "    </tr>\n",
       "    <tr>\n",
       "      <th>7</th>\n",
       "      <td>Vehicle</td>\n",
       "      <td>Avg kmph</td>\n",
       "      <td>28.702190</td>\n",
       "    </tr>\n",
       "    <tr>\n",
       "      <th>8</th>\n",
       "      <td>Walking</td>\n",
       "      <td>Avg kmph</td>\n",
       "      <td>0.332745</td>\n",
       "    </tr>\n",
       "    <tr>\n",
       "      <th>9</th>\n",
       "      <td>Stable</td>\n",
       "      <td>Count</td>\n",
       "      <td>9.000000</td>\n",
       "    </tr>\n",
       "    <tr>\n",
       "      <th>10</th>\n",
       "      <td>Vehicle</td>\n",
       "      <td>Count</td>\n",
       "      <td>10.000000</td>\n",
       "    </tr>\n",
       "    <tr>\n",
       "      <th>11</th>\n",
       "      <td>Walking</td>\n",
       "      <td>Count</td>\n",
       "      <td>480.000000</td>\n",
       "    </tr>\n",
       "  </tbody>\n",
       "</table>\n",
       "</div>"
      ],
      "text/plain": [
       "    Setting      Types      Metric\n",
       "0    Stable  Avg hours   12.448827\n",
       "1   Vehicle  Avg hours    3.210861\n",
       "2   Walking  Avg hours   11.849802\n",
       "3    Stable     Avg km    0.000000\n",
       "4   Vehicle     Avg km   36.680158\n",
       "5   Walking     Avg km    2.552326\n",
       "6    Stable   Avg kmph    0.000000\n",
       "7   Vehicle   Avg kmph   28.702190\n",
       "8   Walking   Avg kmph    0.332745\n",
       "9    Stable      Count    9.000000\n",
       "10  Vehicle      Count   10.000000\n",
       "11  Walking      Count  480.000000"
      ]
     },
     "execution_count": 90,
     "metadata": {},
     "output_type": "execute_result"
    }
   ],
   "source": [
    "# Melt the pvt table to display in barchart\n",
    "\n",
    "summary_melt = pd.melt(summary_combine, id_vars = 'Setting', var_name = 'Types', value_name = 'Metric')\n",
    "\n",
    "summary_melt"
   ]
  },
  {
   "cell_type": "code",
   "execution_count": 91,
   "metadata": {},
   "outputs": [
    {
     "ename": "AttributeError",
     "evalue": "module 'seaborn' has no attribute 'factorplot'",
     "output_type": "error",
     "traceback": [
      "\u001b[1;31m---------------------------------------------------------------------------\u001b[0m",
      "\u001b[1;31mAttributeError\u001b[0m                            Traceback (most recent call last)",
      "\u001b[1;32m<ipython-input-91-135243a29058>\u001b[0m in \u001b[0;36m<module>\u001b[1;34m\u001b[0m\n\u001b[0;32m      1\u001b[0m \u001b[1;31m# Factorplot\u001b[0m\u001b[1;33m\u001b[0m\u001b[1;33m\u001b[0m\u001b[1;33m\u001b[0m\u001b[0m\n\u001b[0;32m      2\u001b[0m \u001b[1;33m\u001b[0m\u001b[0m\n\u001b[1;32m----> 3\u001b[1;33m \u001b[0msns\u001b[0m\u001b[1;33m.\u001b[0m\u001b[0mfactorplot\u001b[0m\u001b[1;33m(\u001b[0m\u001b[0mx\u001b[0m \u001b[1;33m=\u001b[0m \u001b[1;34m\"Setting\"\u001b[0m\u001b[1;33m,\u001b[0m \u001b[0my\u001b[0m \u001b[1;33m=\u001b[0m \u001b[1;34m'Metric'\u001b[0m\u001b[1;33m,\u001b[0m \u001b[0mhue\u001b[0m \u001b[1;33m=\u001b[0m \u001b[1;34m'Types'\u001b[0m\u001b[1;33m,\u001b[0m \u001b[0mdata\u001b[0m \u001b[1;33m=\u001b[0m \u001b[0msummary_melt\u001b[0m\u001b[1;33m,\u001b[0m \u001b[0mkind\u001b[0m \u001b[1;33m=\u001b[0m \u001b[1;34m'bar'\u001b[0m\u001b[1;33m)\u001b[0m\u001b[1;33m.\u001b[0m\u001b[0mset\u001b[0m\u001b[1;33m(\u001b[0m\u001b[0mtitle\u001b[0m \u001b[1;33m=\u001b[0m \u001b[1;34m\"Bar Chart for metrics\"\u001b[0m\u001b[1;33m)\u001b[0m\u001b[1;33m\u001b[0m\u001b[1;33m\u001b[0m\u001b[0m\n\u001b[0m",
      "\u001b[1;31mAttributeError\u001b[0m: module 'seaborn' has no attribute 'factorplot'"
     ]
    }
   ],
   "source": [
    "# Factorplot\n",
    "\n",
    "sns.factorplot(x = \"Setting\", y = 'Metric', hue = 'Types', data = summary_melt, kind = 'bar').set(title = \"Bar Chart for metrics\")"
   ]
  },
  {
   "cell_type": "code",
   "execution_count": null,
   "metadata": {},
   "outputs": [],
   "source": []
  },
  {
   "cell_type": "code",
   "execution_count": null,
   "metadata": {},
   "outputs": [],
   "source": []
  },
  {
   "cell_type": "code",
   "execution_count": null,
   "metadata": {},
   "outputs": [],
   "source": []
  },
  {
   "cell_type": "code",
   "execution_count": null,
   "metadata": {},
   "outputs": [],
   "source": []
  },
  {
   "cell_type": "code",
   "execution_count": null,
   "metadata": {},
   "outputs": [],
   "source": []
  },
  {
   "cell_type": "code",
   "execution_count": null,
   "metadata": {},
   "outputs": [],
   "source": []
  },
  {
   "cell_type": "code",
   "execution_count": null,
   "metadata": {},
   "outputs": [],
   "source": []
  },
  {
   "cell_type": "code",
   "execution_count": null,
   "metadata": {},
   "outputs": [],
   "source": []
  },
  {
   "cell_type": "markdown",
   "metadata": {},
   "source": [
    "# Elbow Method and K Means Algorithm"
   ]
  },
  {
   "cell_type": "code",
   "execution_count": 32,
   "metadata": {},
   "outputs": [
    {
     "data": {
      "text/plain": [
       "array([[-0.3034872 , -0.82391097, -0.12084637],\n",
       "       [-0.23180485, -0.84740026, -0.10333341],\n",
       "       [-0.31150911, -0.24450848, -0.12274608],\n",
       "       ...,\n",
       "       [-0.29561352, -1.5728656 , -0.0906192 ],\n",
       "       [-0.0380534 , -1.54870065,  0.32185641],\n",
       "       [ 0.64767917, -0.52204776,  0.04479101]])"
      ]
     },
     "execution_count": 32,
     "metadata": {},
     "output_type": "execute_result"
    }
   ],
   "source": [
    "# Data preprocessing\n",
    "\n",
    "from sklearn.preprocessing import StandardScaler\n",
    "\n",
    "# Standardize data\n",
    "\n",
    "scale = StandardScaler()\n",
    "\n",
    "scale_data = scale.fit_transform(iClickdf[['km','hours','km_per_hr']])\n",
    "\n",
    "scale_data\n"
   ]
  },
  {
   "cell_type": "code",
   "execution_count": 33,
   "metadata": {},
   "outputs": [
    {
     "data": {
      "image/png": "[encoded data removed]",
      "text/plain": [
       "<Figure size 720x576 with 1 Axes>"
      ]
     },
     "metadata": {
      "needs_background": "light"
     },
     "output_type": "display_data"
    }
   ],
   "source": [
    "from sklearn.cluster import KMeans\n",
    "import matplotlib.pyplot as plt\n",
    "\n",
    "# K means elbow method\n",
    "\n",
    "lst = []\n",
    "\n",
    "K = range(1,10)\n",
    "\n",
    "for k in K:\n",
    "    kmeanModel = KMeans(n_clusters = k)\n",
    "    kmeanModel.fit(scale_data)\n",
    "    lst.append(kmeanModel.inertia_)\n",
    "    \n",
    "plt.figure(figsize=(10,8))\n",
    "plt.plot(K, lst, 'bx-')\n",
    "plt.xlabel('k')\n",
    "plt.ylabel('Distortion')\n",
    "plt.title('Elbow Method for optimal cluster K')\n",
    "plt.show()"
   ]
  },
  {
   "cell_type": "code",
   "execution_count": 34,
   "metadata": {},
   "outputs": [
    {
     "name": "stderr",
     "output_type": "stream",
     "text": [
      "D:\\ProgramData\\Anaconda3\\lib\\site-packages\\ipykernel_launcher.py:6: SettingWithCopyWarning: \n",
      "A value is trying to be set on a copy of a slice from a DataFrame.\n",
      "Try using .loc[row_indexer,col_indexer] = value instead\n",
      "\n",
      "See the caveats in the documentation: https://pandas.pydata.org/pandas-docs/stable/user_guide/indexing.html#returning-a-view-versus-a-copy\n",
      "  \n"
     ]
    }
   ],
   "source": [
    "# Kmeans using cluster = 4\n",
    "\n",
    "kmeanModel = KMeans(n_clusters = 4)\n",
    "kmeanModel.fit(scale_data)\n",
    "\n",
    "iClickdf['k_means'] = kmeanModel.predict(scale_data)\n"
   ]
  },
  {
   "cell_type": "code",
   "execution_count": 35,
   "metadata": {},
   "outputs": [
    {
     "data": {
      "text/html": [
       "<div>\n",
       "<style scoped>\n",
       "    .dataframe tbody tr th:only-of-type {\n",
       "        vertical-align: middle;\n",
       "    }\n",
       "\n",
       "    .dataframe tbody tr th {\n",
       "        vertical-align: top;\n",
       "    }\n",
       "\n",
       "    .dataframe thead th {\n",
       "        text-align: right;\n",
       "    }\n",
       "</style>\n",
       "<table border=\"1\" class=\"dataframe\">\n",
       "  <thead>\n",
       "    <tr style=\"text-align: right;\">\n",
       "      <th></th>\n",
       "      <th>Avg hrs</th>\n",
       "      <th>Avg km</th>\n",
       "      <th>Avg Kmph</th>\n",
       "      <th>Count</th>\n",
       "    </tr>\n",
       "  </thead>\n",
       "  <tbody>\n",
       "    <tr>\n",
       "      <th>0</th>\n",
       "      <td>18.313492</td>\n",
       "      <td>2.106208</td>\n",
       "      <td>0.118022</td>\n",
       "      <td>224</td>\n",
       "    </tr>\n",
       "    <tr>\n",
       "      <th>1</th>\n",
       "      <td>6.102681</td>\n",
       "      <td>1.853040</td>\n",
       "      <td>0.803046</td>\n",
       "      <td>267</td>\n",
       "    </tr>\n",
       "    <tr>\n",
       "      <th>2</th>\n",
       "      <td>0.524444</td>\n",
       "      <td>79.954576</td>\n",
       "      <td>152.455759</td>\n",
       "      <td>1</td>\n",
       "    </tr>\n",
       "    <tr>\n",
       "      <th>3</th>\n",
       "      <td>14.270079</td>\n",
       "      <td>77.915914</td>\n",
       "      <td>7.633389</td>\n",
       "      <td>7</td>\n",
       "    </tr>\n",
       "  </tbody>\n",
       "</table>\n",
       "</div>"
      ],
      "text/plain": [
       "     Avg hrs     Avg km    Avg Kmph  Count\n",
       "0  18.313492   2.106208    0.118022    224\n",
       "1   6.102681   1.853040    0.803046    267\n",
       "2   0.524444  79.954576  152.455759      1\n",
       "3  14.270079  77.915914    7.633389      7"
      ]
     },
     "execution_count": 35,
     "metadata": {},
     "output_type": "execute_result"
    }
   ],
   "source": [
    "# Create summary of kmeans\n",
    "\n",
    "kmeans_summary = pd.concat([iClickdf.groupby(['k_means'])[['hours','km','km_per_hr']].agg([np.mean]),\n",
    "                           iClickdf['k_means'].value_counts()],\n",
    "                          axis = 1)\n",
    "\n",
    "kmeans_summary.columns = ['Avg hrs', 'Avg km', 'Avg Kmph', 'Count']\n",
    "\n",
    "kmeans_summary"
   ]
  },
  {
   "cell_type": "code",
   "execution_count": 44,
   "metadata": {},
   "outputs": [
    {
     "data": {
      "text/html": [
       "<div>\n",
       "<style scoped>\n",
       "    .dataframe tbody tr th:only-of-type {\n",
       "        vertical-align: middle;\n",
       "    }\n",
       "\n",
       "    .dataframe tbody tr th {\n",
       "        vertical-align: top;\n",
       "    }\n",
       "\n",
       "    .dataframe thead th {\n",
       "        text-align: right;\n",
       "    }\n",
       "</style>\n",
       "<table border=\"1\" class=\"dataframe\">\n",
       "  <thead>\n",
       "    <tr style=\"text-align: right;\">\n",
       "      <th></th>\n",
       "      <th>imp_event_id</th>\n",
       "      <th>imp_latitude</th>\n",
       "      <th>imp_longitude</th>\n",
       "      <th>clk_latitude</th>\n",
       "      <th>clk_longitude</th>\n",
       "      <th>imp_event</th>\n",
       "      <th>hours</th>\n",
       "      <th>km</th>\n",
       "      <th>km_per_hr</th>\n",
       "      <th>Setting</th>\n",
       "      <th>k_means</th>\n",
       "    </tr>\n",
       "  </thead>\n",
       "  <tbody>\n",
       "    <tr>\n",
       "      <th>2</th>\n",
       "      <td>00a0bd9e-1690-48a4-910f-8173c4a8b5a4</td>\n",
       "      <td>51.648776</td>\n",
       "      <td>-0.422</td>\n",
       "      <td>51.648776</td>\n",
       "      <td>-0.422</td>\n",
       "      <td>impression</td>\n",
       "      <td>9.978611</td>\n",
       "      <td>0.0</td>\n",
       "      <td>0.0</td>\n",
       "      <td>Stable</td>\n",
       "      <td>1</td>\n",
       "    </tr>\n",
       "    <tr>\n",
       "      <th>38</th>\n",
       "      <td>150d1122-43cd-4a9a-9bd7-fea633fa4db9</td>\n",
       "      <td>50.916207</td>\n",
       "      <td>-0.264</td>\n",
       "      <td>50.916207</td>\n",
       "      <td>-0.264</td>\n",
       "      <td>impression</td>\n",
       "      <td>8.556389</td>\n",
       "      <td>0.0</td>\n",
       "      <td>0.0</td>\n",
       "      <td>Stable</td>\n",
       "      <td>1</td>\n",
       "    </tr>\n",
       "    <tr>\n",
       "      <th>111</th>\n",
       "      <td>3a60a071-87b6-465b-8b51-89686cb0ab1e</td>\n",
       "      <td>53.693463</td>\n",
       "      <td>-2.207</td>\n",
       "      <td>53.693463</td>\n",
       "      <td>-2.207</td>\n",
       "      <td>impression</td>\n",
       "      <td>22.834167</td>\n",
       "      <td>0.0</td>\n",
       "      <td>0.0</td>\n",
       "      <td>Stable</td>\n",
       "      <td>0</td>\n",
       "    </tr>\n",
       "    <tr>\n",
       "      <th>206</th>\n",
       "      <td>68655d7a-4f22-4933-8532-c199a3e4c56f</td>\n",
       "      <td>51.550839</td>\n",
       "      <td>-0.146</td>\n",
       "      <td>51.550839</td>\n",
       "      <td>-0.146</td>\n",
       "      <td>impression</td>\n",
       "      <td>9.078611</td>\n",
       "      <td>0.0</td>\n",
       "      <td>0.0</td>\n",
       "      <td>Stable</td>\n",
       "      <td>1</td>\n",
       "    </tr>\n",
       "    <tr>\n",
       "      <th>207</th>\n",
       "      <td>68bdbf2d-36bf-4cac-ab94-46c5e92e7788</td>\n",
       "      <td>53.489325</td>\n",
       "      <td>-2.264</td>\n",
       "      <td>53.489325</td>\n",
       "      <td>-2.264</td>\n",
       "      <td>impression</td>\n",
       "      <td>15.055278</td>\n",
       "      <td>0.0</td>\n",
       "      <td>0.0</td>\n",
       "      <td>Stable</td>\n",
       "      <td>0</td>\n",
       "    </tr>\n",
       "    <tr>\n",
       "      <th>298</th>\n",
       "      <td>9a376add-88b9-484f-aafd-532ee45c8162</td>\n",
       "      <td>54.327020</td>\n",
       "      <td>-2.746</td>\n",
       "      <td>54.327020</td>\n",
       "      <td>-2.746</td>\n",
       "      <td>impression</td>\n",
       "      <td>10.013333</td>\n",
       "      <td>0.0</td>\n",
       "      <td>0.0</td>\n",
       "      <td>Stable</td>\n",
       "      <td>1</td>\n",
       "    </tr>\n",
       "    <tr>\n",
       "      <th>304</th>\n",
       "      <td>9c084fd1-f719-4259-8071-4522c5488359</td>\n",
       "      <td>54.977728</td>\n",
       "      <td>-2.088</td>\n",
       "      <td>54.977728</td>\n",
       "      <td>-2.088</td>\n",
       "      <td>impression</td>\n",
       "      <td>19.579167</td>\n",
       "      <td>0.0</td>\n",
       "      <td>0.0</td>\n",
       "      <td>Stable</td>\n",
       "      <td>0</td>\n",
       "    </tr>\n",
       "    <tr>\n",
       "      <th>411</th>\n",
       "      <td>d187f581-6717-4154-9a06-49a94358d053</td>\n",
       "      <td>51.510782</td>\n",
       "      <td>-0.217</td>\n",
       "      <td>51.510782</td>\n",
       "      <td>-0.217</td>\n",
       "      <td>impression</td>\n",
       "      <td>8.238611</td>\n",
       "      <td>0.0</td>\n",
       "      <td>0.0</td>\n",
       "      <td>Stable</td>\n",
       "      <td>1</td>\n",
       "    </tr>\n",
       "    <tr>\n",
       "      <th>456</th>\n",
       "      <td>e4767062-cd6b-4ba5-b1fc-6bf297f07d69</td>\n",
       "      <td>50.255270</td>\n",
       "      <td>-5.046</td>\n",
       "      <td>50.255270</td>\n",
       "      <td>-5.046</td>\n",
       "      <td>impression</td>\n",
       "      <td>8.705278</td>\n",
       "      <td>0.0</td>\n",
       "      <td>0.0</td>\n",
       "      <td>Stable</td>\n",
       "      <td>1</td>\n",
       "    </tr>\n",
       "  </tbody>\n",
       "</table>\n",
       "</div>"
      ],
      "text/plain": [
       "                             imp_event_id  imp_latitude  imp_longitude  \\\n",
       "2    00a0bd9e-1690-48a4-910f-8173c4a8b5a4     51.648776         -0.422   \n",
       "38   150d1122-43cd-4a9a-9bd7-fea633fa4db9     50.916207         -0.264   \n",
       "111  3a60a071-87b6-465b-8b51-89686cb0ab1e     53.693463         -2.207   \n",
       "206  68655d7a-4f22-4933-8532-c199a3e4c56f     51.550839         -0.146   \n",
       "207  68bdbf2d-36bf-4cac-ab94-46c5e92e7788     53.489325         -2.264   \n",
       "298  9a376add-88b9-484f-aafd-532ee45c8162     54.327020         -2.746   \n",
       "304  9c084fd1-f719-4259-8071-4522c5488359     54.977728         -2.088   \n",
       "411  d187f581-6717-4154-9a06-49a94358d053     51.510782         -0.217   \n",
       "456  e4767062-cd6b-4ba5-b1fc-6bf297f07d69     50.255270         -5.046   \n",
       "\n",
       "     clk_latitude  clk_longitude   imp_event      hours   km  km_per_hr  \\\n",
       "2       51.648776         -0.422  impression   9.978611  0.0        0.0   \n",
       "38      50.916207         -0.264  impression   8.556389  0.0        0.0   \n",
       "111     53.693463         -2.207  impression  22.834167  0.0        0.0   \n",
       "206     51.550839         -0.146  impression   9.078611  0.0        0.0   \n",
       "207     53.489325         -2.264  impression  15.055278  0.0        0.0   \n",
       "298     54.327020         -2.746  impression  10.013333  0.0        0.0   \n",
       "304     54.977728         -2.088  impression  19.579167  0.0        0.0   \n",
       "411     51.510782         -0.217  impression   8.238611  0.0        0.0   \n",
       "456     50.255270         -5.046  impression   8.705278  0.0        0.0   \n",
       "\n",
       "    Setting  k_means  \n",
       "2    Stable        1  \n",
       "38   Stable        1  \n",
       "111  Stable        0  \n",
       "206  Stable        1  \n",
       "207  Stable        0  \n",
       "298  Stable        1  \n",
       "304  Stable        0  \n",
       "411  Stable        1  \n",
       "456  Stable        1  "
      ]
     },
     "execution_count": 44,
     "metadata": {},
     "output_type": "execute_result"
    }
   ],
   "source": [
    "iClickdf[iClickdf['Setting'] == 'Stable'][['imp_event_id','imp_latitude','imp_longitude','clk_latitude','clk_longitude','imp_event','hours','km','km_per_hr','Setting','k_means']]"
   ]
  },
  {
   "cell_type": "code",
   "execution_count": null,
   "metadata": {},
   "outputs": [],
   "source": []
  },
  {
   "cell_type": "code",
   "execution_count": null,
   "metadata": {},
   "outputs": [],
   "source": []
  },
  {
   "cell_type": "code",
   "execution_count": null,
   "metadata": {},
   "outputs": [],
   "source": []
  },
  {
   "cell_type": "code",
   "execution_count": null,
   "metadata": {},
   "outputs": [],
   "source": []
  },
  {
   "cell_type": "code",
   "execution_count": null,
   "metadata": {},
   "outputs": [],
   "source": []
  },
  {
   "cell_type": "code",
   "execution_count": null,
   "metadata": {},
   "outputs": [],
   "source": []
  },
  {
   "cell_type": "code",
   "execution_count": null,
   "metadata": {},
   "outputs": [],
   "source": []
  },
  {
   "cell_type": "code",
   "execution_count": null,
   "metadata": {},
   "outputs": [],
   "source": []
  },
  {
   "cell_type": "code",
   "execution_count": null,
   "metadata": {},
   "outputs": [],
   "source": []
  },
  {
   "cell_type": "code",
   "execution_count": null,
   "metadata": {},
   "outputs": [],
   "source": []
  },
  {
   "cell_type": "code",
   "execution_count": null,
   "metadata": {},
   "outputs": [],
   "source": []
  },
  {
   "cell_type": "code",
   "execution_count": null,
   "metadata": {},
   "outputs": [],
   "source": []
  },
  {
   "cell_type": "code",
   "execution_count": null,
   "metadata": {},
   "outputs": [],
   "source": []
  },
  {
   "cell_type": "code",
   "execution_count": null,
   "metadata": {},
   "outputs": [],
   "source": []
  },
  {
   "cell_type": "code",
   "execution_count": null,
   "metadata": {},
   "outputs": [],
   "source": []
  },
  {
   "cell_type": "code",
   "execution_count": null,
   "metadata": {},
   "outputs": [],
   "source": []
  },
  {
   "cell_type": "code",
   "execution_count": null,
   "metadata": {},
   "outputs": [],
   "source": []
  },
  {
   "cell_type": "code",
   "execution_count": null,
   "metadata": {},
   "outputs": [],
   "source": []
  },
  {
   "cell_type": "code",
   "execution_count": null,
   "metadata": {},
   "outputs": [],
   "source": []
  },
  {
   "cell_type": "code",
   "execution_count": null,
   "metadata": {},
   "outputs": [],
   "source": []
  },
  {
   "cell_type": "code",
   "execution_count": null,
   "metadata": {},
   "outputs": [],
   "source": []
  },
  {
   "cell_type": "code",
   "execution_count": null,
   "metadata": {},
   "outputs": [],
   "source": []
  },
  {
   "cell_type": "code",
   "execution_count": null,
   "metadata": {},
   "outputs": [],
   "source": []
  },
  {
   "cell_type": "code",
   "execution_count": null,
   "metadata": {},
   "outputs": [],
   "source": []
  },
  {
   "cell_type": "code",
   "execution_count": null,
   "metadata": {},
   "outputs": [],
   "source": []
  },
  {
   "cell_type": "code",
   "execution_count": null,
   "metadata": {},
   "outputs": [],
   "source": []
  },
  {
   "cell_type": "code",
   "execution_count": null,
   "metadata": {},
   "outputs": [],
   "source": []
  },
  {
   "cell_type": "code",
   "execution_count": null,
   "metadata": {},
   "outputs": [],
   "source": []
  },
  {
   "cell_type": "code",
   "execution_count": null,
   "metadata": {},
   "outputs": [],
   "source": []
  },
  {
   "cell_type": "code",
   "execution_count": null,
   "metadata": {},
   "outputs": [],
   "source": []
  },
  {
   "cell_type": "code",
   "execution_count": null,
   "metadata": {},
   "outputs": [],
   "source": []
  },
  {
   "cell_type": "code",
   "execution_count": null,
   "metadata": {},
   "outputs": [],
   "source": []
  },
  {
   "cell_type": "code",
   "execution_count": null,
   "metadata": {},
   "outputs": [],
   "source": []
  },
  {
   "cell_type": "code",
   "execution_count": null,
   "metadata": {},
   "outputs": [],
   "source": []
  },
  {
   "cell_type": "code",
   "execution_count": null,
   "metadata": {},
   "outputs": [],
   "source": []
  },
  {
   "cell_type": "code",
   "execution_count": null,
   "metadata": {},
   "outputs": [],
   "source": []
  },
  {
   "cell_type": "code",
   "execution_count": null,
   "metadata": {},
   "outputs": [],
   "source": []
  },
  {
   "cell_type": "code",
   "execution_count": null,
   "metadata": {},
   "outputs": [],
   "source": []
  },
  {
   "cell_type": "code",
   "execution_count": null,
   "metadata": {},
   "outputs": [],
   "source": []
  },
  {
   "cell_type": "code",
   "execution_count": null,
   "metadata": {},
   "outputs": [],
   "source": []
  },
  {
   "cell_type": "code",
   "execution_count": null,
   "metadata": {},
   "outputs": [],
   "source": []
  }
 ],
 "metadata": {
  "kernelspec": {
   "display_name": "Python 3",
   "language": "python",
   "name": "python3"
  },
  "language_info": {
   "codemirror_mode": {
    "name": "ipython",
    "version": 3
   },
   "file_extension": ".py",
   "mimetype": "text/x-python",
   "name": "python",
   "nbconvert_exporter": "python",
   "pygments_lexer": "ipython3",
   "version": "3.7.3"
  }
 },
 "nbformat": 4,
 "nbformat_minor": 2
}
